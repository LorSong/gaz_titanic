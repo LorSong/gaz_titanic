{
 "cells": [
  {
   "cell_type": "markdown",
   "metadata": {},
   "source": [
    "# Imports / data loads\n",
    "Для простоты, просто повторю код загрузки из предыдущего джупитера"
   ]
  },
  {
   "cell_type": "code",
   "execution_count": 1,
   "metadata": {},
   "outputs": [],
   "source": [
    "import numpy as np\n",
    "import pandas as pd\n",
    "pd.set_option('display.max_columns', 100)\n",
    "\n",
    "import matplotlib.pyplot as plt\n",
    "import seaborn as sns\n",
    "\n",
    "import utils.eda\n",
    "from utils.titanic_feature_generator import Titanic_Feature_Generator\n",
    "from tqdm.notebook import tqdm\n",
    "\n",
    "# Ignore warnings\n",
    "import warnings\n",
    "warnings.filterwarnings('ignore')"
   ]
  },
  {
   "cell_type": "code",
   "execution_count": 2,
   "metadata": {},
   "outputs": [],
   "source": [
    "df_base = pd.read_csv('data/train.csv', index_col='PassengerId')\n",
    "\n",
    "# переименуем Survived в target для удобства\n",
    "# и все наименования колонок приведем к единому регистру\n",
    "df_base.columns = df_base.columns.str.lower()\n",
    "df_base = df_base.rename(columns={'survived': 'target'})"
   ]
  },
  {
   "cell_type": "code",
   "execution_count": 3,
   "metadata": {},
   "outputs": [
    {
     "data": {
      "text/html": [
       "<div>\n",
       "<style scoped>\n",
       "    .dataframe tbody tr th:only-of-type {\n",
       "        vertical-align: middle;\n",
       "    }\n",
       "\n",
       "    .dataframe tbody tr th {\n",
       "        vertical-align: top;\n",
       "    }\n",
       "\n",
       "    .dataframe thead th {\n",
       "        text-align: right;\n",
       "    }\n",
       "</style>\n",
       "<table border=\"1\" class=\"dataframe\">\n",
       "  <thead>\n",
       "    <tr style=\"text-align: right;\">\n",
       "      <th></th>\n",
       "      <th>size</th>\n",
       "      <th>mean target</th>\n",
       "    </tr>\n",
       "  </thead>\n",
       "  <tbody>\n",
       "    <tr>\n",
       "      <th>train</th>\n",
       "      <td>668</td>\n",
       "      <td>0.383234</td>\n",
       "    </tr>\n",
       "    <tr>\n",
       "      <th>test</th>\n",
       "      <td>223</td>\n",
       "      <td>0.385650</td>\n",
       "    </tr>\n",
       "  </tbody>\n",
       "</table>\n",
       "</div>"
      ],
      "text/plain": [
       "       size  mean target\n",
       "train   668     0.383234\n",
       "test    223     0.385650"
      ]
     },
     "execution_count": 3,
     "metadata": {},
     "output_type": "execute_result"
    }
   ],
   "source": [
    "from sklearn.model_selection import train_test_split\n",
    "\n",
    "# Стратифицируем по целевой и по полу, так как мы заранее знаешь, что пол это сильный предиктор \n",
    "# и мы не ожидаем сильного смещения в распределении этой переменной в \"реальных\" данных\n",
    "X_train, X_test, y_train, y_test = train_test_split(df_base.drop(columns='target'),\n",
    "                                                    df_base['target'], \n",
    "                                                    test_size=0.25, \n",
    "                                                    random_state=42,\n",
    "                                                    stratify=df_base[['target', 'sex']])\n",
    "\n",
    "# Для удобства EDA склеим в датафреймы (с памятью проблем у нас тут нет)\n",
    "df_train = pd.concat([X_train, y_train], axis=1)\n",
    "df_test = pd.concat([X_test, y_test], axis=1)\n",
    "\n",
    "utils.eda.make_splits_info(df_train, df_test)"
   ]
  },
  {
   "cell_type": "markdown",
   "metadata": {},
   "source": [
    "# Base feature selection"
   ]
  },
  {
   "cell_type": "markdown",
   "metadata": {},
   "source": [
    "## Generating features\n",
    "Импортируем наш трансформер на основе полученных ранеее функций"
   ]
  },
  {
   "cell_type": "code",
   "execution_count": 4,
   "metadata": {},
   "outputs": [],
   "source": [
    "from utils.titanic_feature_generator import Titanic_Feature_Generator"
   ]
  },
  {
   "cell_type": "code",
   "execution_count": 5,
   "metadata": {},
   "outputs": [],
   "source": [
    "feat_get = Titanic_Feature_Generator()\n",
    "\n",
    "# Сразу трансформируем для удобства оценки предикторов (но потом будем применять в пайплайнах)\n",
    "X_train_tr = feat_get.fit_transform(X_train, y_train)\n",
    "X_test_tr = feat_get.transform(X_test)"
   ]
  },
  {
   "cell_type": "code",
   "execution_count": 6,
   "metadata": {},
   "outputs": [],
   "source": [
    "# Ранее определенные коррелируемые предикторы\n",
    "high_corr_cols = ['n_cabins', 'n_relatives']\n",
    "\n",
    "X_train_tr = X_train_tr.drop(columns=high_corr_cols)\n",
    "X_test_tr = X_test_tr.drop(columns=high_corr_cols)"
   ]
  },
  {
   "cell_type": "code",
   "execution_count": 22,
   "metadata": {},
   "outputs": [
    {
     "data": {
      "text/html": [
       "<div>\n",
       "<style scoped>\n",
       "    .dataframe tbody tr th:only-of-type {\n",
       "        vertical-align: middle;\n",
       "    }\n",
       "\n",
       "    .dataframe tbody tr th {\n",
       "        vertical-align: top;\n",
       "    }\n",
       "\n",
       "    .dataframe thead th {\n",
       "        text-align: right;\n",
       "    }\n",
       "</style>\n",
       "<table border=\"1\" class=\"dataframe\">\n",
       "  <thead>\n",
       "    <tr style=\"text-align: right;\">\n",
       "      <th></th>\n",
       "      <th>pclass</th>\n",
       "      <th>age</th>\n",
       "      <th>sibsp</th>\n",
       "      <th>parch</th>\n",
       "      <th>fare</th>\n",
       "      <th>embarked</th>\n",
       "      <th>name_size</th>\n",
       "      <th>name_length</th>\n",
       "      <th>name_longest</th>\n",
       "      <th>name_length_mean</th>\n",
       "      <th>popular_name</th>\n",
       "      <th>has_mr</th>\n",
       "      <th>has_miss</th>\n",
       "      <th>has_mrs</th>\n",
       "      <th>has_master</th>\n",
       "      <th>has_dr</th>\n",
       "      <th>has_rev</th>\n",
       "      <th>has_rare_title</th>\n",
       "      <th>ticket_num_len</th>\n",
       "      <th>ticket_has_text</th>\n",
       "      <th>has_cabin</th>\n",
       "      <th>cabin_letter</th>\n",
       "      <th>alone</th>\n",
       "      <th>sex_male</th>\n",
       "    </tr>\n",
       "    <tr>\n",
       "      <th>PassengerId</th>\n",
       "      <th></th>\n",
       "      <th></th>\n",
       "      <th></th>\n",
       "      <th></th>\n",
       "      <th></th>\n",
       "      <th></th>\n",
       "      <th></th>\n",
       "      <th></th>\n",
       "      <th></th>\n",
       "      <th></th>\n",
       "      <th></th>\n",
       "      <th></th>\n",
       "      <th></th>\n",
       "      <th></th>\n",
       "      <th></th>\n",
       "      <th></th>\n",
       "      <th></th>\n",
       "      <th></th>\n",
       "      <th></th>\n",
       "      <th></th>\n",
       "      <th></th>\n",
       "      <th></th>\n",
       "      <th></th>\n",
       "      <th></th>\n",
       "    </tr>\n",
       "  </thead>\n",
       "  <tbody>\n",
       "    <tr>\n",
       "      <th>134</th>\n",
       "      <td>2</td>\n",
       "      <td>29.0</td>\n",
       "      <td>1</td>\n",
       "      <td>0</td>\n",
       "      <td>26.0000</td>\n",
       "      <td>S</td>\n",
       "      <td>5</td>\n",
       "      <td>37</td>\n",
       "      <td>9.0</td>\n",
       "      <td>6.6</td>\n",
       "      <td>0</td>\n",
       "      <td>0</td>\n",
       "      <td>0</td>\n",
       "      <td>1</td>\n",
       "      <td>0</td>\n",
       "      <td>0</td>\n",
       "      <td>0</td>\n",
       "      <td>0</td>\n",
       "      <td>6.0</td>\n",
       "      <td>0</td>\n",
       "      <td>0</td>\n",
       "      <td>NaN</td>\n",
       "      <td>0</td>\n",
       "      <td>0</td>\n",
       "    </tr>\n",
       "    <tr>\n",
       "      <th>151</th>\n",
       "      <td>2</td>\n",
       "      <td>51.0</td>\n",
       "      <td>0</td>\n",
       "      <td>0</td>\n",
       "      <td>12.5250</td>\n",
       "      <td>S</td>\n",
       "      <td>3</td>\n",
       "      <td>20</td>\n",
       "      <td>7.0</td>\n",
       "      <td>6.0</td>\n",
       "      <td>1</td>\n",
       "      <td>0</td>\n",
       "      <td>0</td>\n",
       "      <td>0</td>\n",
       "      <td>0</td>\n",
       "      <td>0</td>\n",
       "      <td>1</td>\n",
       "      <td>0</td>\n",
       "      <td>4.0</td>\n",
       "      <td>1</td>\n",
       "      <td>0</td>\n",
       "      <td>NaN</td>\n",
       "      <td>1</td>\n",
       "      <td>1</td>\n",
       "    </tr>\n",
       "    <tr>\n",
       "      <th>112</th>\n",
       "      <td>3</td>\n",
       "      <td>14.5</td>\n",
       "      <td>1</td>\n",
       "      <td>0</td>\n",
       "      <td>14.4542</td>\n",
       "      <td>C</td>\n",
       "      <td>2</td>\n",
       "      <td>13</td>\n",
       "      <td>6.0</td>\n",
       "      <td>6.0</td>\n",
       "      <td>0</td>\n",
       "      <td>0</td>\n",
       "      <td>1</td>\n",
       "      <td>0</td>\n",
       "      <td>0</td>\n",
       "      <td>0</td>\n",
       "      <td>0</td>\n",
       "      <td>0</td>\n",
       "      <td>4.0</td>\n",
       "      <td>0</td>\n",
       "      <td>0</td>\n",
       "      <td>NaN</td>\n",
       "      <td>0</td>\n",
       "      <td>0</td>\n",
       "    </tr>\n",
       "    <tr>\n",
       "      <th>629</th>\n",
       "      <td>3</td>\n",
       "      <td>26.0</td>\n",
       "      <td>0</td>\n",
       "      <td>0</td>\n",
       "      <td>7.8958</td>\n",
       "      <td>S</td>\n",
       "      <td>2</td>\n",
       "      <td>20</td>\n",
       "      <td>11.0</td>\n",
       "      <td>9.5</td>\n",
       "      <td>0</td>\n",
       "      <td>1</td>\n",
       "      <td>0</td>\n",
       "      <td>0</td>\n",
       "      <td>0</td>\n",
       "      <td>0</td>\n",
       "      <td>0</td>\n",
       "      <td>0</td>\n",
       "      <td>6.0</td>\n",
       "      <td>0</td>\n",
       "      <td>0</td>\n",
       "      <td>NaN</td>\n",
       "      <td>1</td>\n",
       "      <td>1</td>\n",
       "    </tr>\n",
       "    <tr>\n",
       "      <th>649</th>\n",
       "      <td>3</td>\n",
       "      <td>NaN</td>\n",
       "      <td>0</td>\n",
       "      <td>0</td>\n",
       "      <td>7.5500</td>\n",
       "      <td>S</td>\n",
       "      <td>2</td>\n",
       "      <td>13</td>\n",
       "      <td>6.0</td>\n",
       "      <td>6.0</td>\n",
       "      <td>0</td>\n",
       "      <td>1</td>\n",
       "      <td>0</td>\n",
       "      <td>0</td>\n",
       "      <td>0</td>\n",
       "      <td>0</td>\n",
       "      <td>0</td>\n",
       "      <td>0</td>\n",
       "      <td>3.0</td>\n",
       "      <td>1</td>\n",
       "      <td>0</td>\n",
       "      <td>NaN</td>\n",
       "      <td>1</td>\n",
       "      <td>1</td>\n",
       "    </tr>\n",
       "  </tbody>\n",
       "</table>\n",
       "</div>"
      ],
      "text/plain": [
       "             pclass   age  sibsp  parch     fare embarked  name_size  \\\n",
       "PassengerId                                                            \n",
       "134               2  29.0      1      0  26.0000        S          5   \n",
       "151               2  51.0      0      0  12.5250        S          3   \n",
       "112               3  14.5      1      0  14.4542        C          2   \n",
       "629               3  26.0      0      0   7.8958        S          2   \n",
       "649               3   NaN      0      0   7.5500        S          2   \n",
       "\n",
       "             name_length  name_longest  name_length_mean  popular_name  \\\n",
       "PassengerId                                                              \n",
       "134                   37           9.0               6.6             0   \n",
       "151                   20           7.0               6.0             1   \n",
       "112                   13           6.0               6.0             0   \n",
       "629                   20          11.0               9.5             0   \n",
       "649                   13           6.0               6.0             0   \n",
       "\n",
       "             has_mr   has_miss   has_mrs   has_master   has_dr   has_rev   \\\n",
       "PassengerId                                                                 \n",
       "134                0          0         1            0        0         0   \n",
       "151                0          0         0            0        0         1   \n",
       "112                0          1         0            0        0         0   \n",
       "629                1          0         0            0        0         0   \n",
       "649                1          0         0            0        0         0   \n",
       "\n",
       "             has_rare_title  ticket_num_len  ticket_has_text  has_cabin  \\\n",
       "PassengerId                                                               \n",
       "134                       0             6.0                0          0   \n",
       "151                       0             4.0                1          0   \n",
       "112                       0             4.0                0          0   \n",
       "629                       0             6.0                0          0   \n",
       "649                       0             3.0                1          0   \n",
       "\n",
       "            cabin_letter  alone  sex_male  \n",
       "PassengerId                                \n",
       "134                  NaN      0         0  \n",
       "151                  NaN      1         1  \n",
       "112                  NaN      0         0  \n",
       "629                  NaN      1         1  \n",
       "649                  NaN      1         1  "
      ]
     },
     "execution_count": 22,
     "metadata": {},
     "output_type": "execute_result"
    }
   ],
   "source": [
    "X_train_tr.head()"
   ]
  },
  {
   "cell_type": "markdown",
   "metadata": {},
   "source": [
    "## Variable IVs\n",
    "Взял из своего прошлого проекта по созданию ВОЕ транформера."
   ]
  },
  {
   "cell_type": "code",
   "execution_count": 7,
   "metadata": {},
   "outputs": [],
   "source": [
    "from utils.woe_transformer import WoE_Transformer\n",
    "from utils.woe_transformer import WoE_groups_filter"
   ]
  },
  {
   "cell_type": "code",
   "execution_count": 8,
   "metadata": {},
   "outputs": [],
   "source": [
    "# Инициализируем трансформер\n",
    "woe_filter = WoE_groups_filter()\n",
    "woe_trans = WoE_Transformer(unknown_vals='woe_mean',  \n",
    "                            filter_groups_algo=woe_filter,\n",
    "                           categorical_cols=['pclass', ])"
   ]
  },
  {
   "cell_type": "code",
   "execution_count": 9,
   "metadata": {},
   "outputs": [],
   "source": [
    "# Также сразу трансформируем для проверки работы\n",
    "X_train_woe = woe_trans.fit_transform(X_train_tr, y_train)\n",
    "X_test_woe = woe_trans.transform(X_test_tr)"
   ]
  },
  {
   "cell_type": "code",
   "execution_count": 10,
   "metadata": {},
   "outputs": [
    {
     "data": {
      "text/html": [
       "<div>\n",
       "<style scoped>\n",
       "    .dataframe tbody tr th:only-of-type {\n",
       "        vertical-align: middle;\n",
       "    }\n",
       "\n",
       "    .dataframe tbody tr th {\n",
       "        vertical-align: top;\n",
       "    }\n",
       "\n",
       "    .dataframe thead th {\n",
       "        text-align: right;\n",
       "    }\n",
       "</style>\n",
       "<table border=\"1\" class=\"dataframe\">\n",
       "  <thead>\n",
       "    <tr style=\"text-align: right;\">\n",
       "      <th></th>\n",
       "      <th>pclass</th>\n",
       "      <th>age</th>\n",
       "      <th>sibsp</th>\n",
       "      <th>parch</th>\n",
       "      <th>fare</th>\n",
       "      <th>embarked</th>\n",
       "      <th>name_size</th>\n",
       "      <th>name_length</th>\n",
       "      <th>name_longest</th>\n",
       "      <th>name_length_mean</th>\n",
       "      <th>popular_name</th>\n",
       "      <th>has_mr</th>\n",
       "      <th>has_miss</th>\n",
       "      <th>has_mrs</th>\n",
       "      <th>has_master</th>\n",
       "      <th>has_dr</th>\n",
       "      <th>has_rev</th>\n",
       "      <th>has_rare_title</th>\n",
       "      <th>ticket_num_len</th>\n",
       "      <th>ticket_has_text</th>\n",
       "      <th>has_cabin</th>\n",
       "      <th>cabin_letter</th>\n",
       "      <th>alone</th>\n",
       "      <th>sex_male</th>\n",
       "    </tr>\n",
       "    <tr>\n",
       "      <th>PassengerId</th>\n",
       "      <th></th>\n",
       "      <th></th>\n",
       "      <th></th>\n",
       "      <th></th>\n",
       "      <th></th>\n",
       "      <th></th>\n",
       "      <th></th>\n",
       "      <th></th>\n",
       "      <th></th>\n",
       "      <th></th>\n",
       "      <th></th>\n",
       "      <th></th>\n",
       "      <th></th>\n",
       "      <th></th>\n",
       "      <th></th>\n",
       "      <th></th>\n",
       "      <th></th>\n",
       "      <th></th>\n",
       "      <th></th>\n",
       "      <th></th>\n",
       "      <th></th>\n",
       "      <th></th>\n",
       "      <th></th>\n",
       "      <th></th>\n",
       "    </tr>\n",
       "  </thead>\n",
       "  <tbody>\n",
       "    <tr>\n",
       "      <th>134</th>\n",
       "      <td>-0.490661</td>\n",
       "      <td>-0.130576</td>\n",
       "      <td>-0.059422</td>\n",
       "      <td>0.042193</td>\n",
       "      <td>-0.381535</td>\n",
       "      <td>0.203818</td>\n",
       "      <td>-1.574458</td>\n",
       "      <td>-1.200742</td>\n",
       "      <td>-0.182859</td>\n",
       "      <td>0.016631</td>\n",
       "      <td>-0.066764</td>\n",
       "      <td>-1.314501</td>\n",
       "      <td>0.368753</td>\n",
       "      <td>-1.770573</td>\n",
       "      <td>0.032477</td>\n",
       "      <td>-0.003394</td>\n",
       "      <td>-0.007805</td>\n",
       "      <td>0.026883</td>\n",
       "      <td>0.250717</td>\n",
       "      <td>0.016631</td>\n",
       "      <td>0.386378</td>\n",
       "      <td>0.386378</td>\n",
       "      <td>-0.453867</td>\n",
       "      <td>-1.524027</td>\n",
       "    </tr>\n",
       "    <tr>\n",
       "      <th>151</th>\n",
       "      <td>-0.490661</td>\n",
       "      <td>0.012507</td>\n",
       "      <td>-0.059422</td>\n",
       "      <td>0.042193</td>\n",
       "      <td>-0.070381</td>\n",
       "      <td>0.203818</td>\n",
       "      <td>0.269487</td>\n",
       "      <td>0.344053</td>\n",
       "      <td>0.411457</td>\n",
       "      <td>0.197099</td>\n",
       "      <td>0.152763</td>\n",
       "      <td>-1.314501</td>\n",
       "      <td>0.368753</td>\n",
       "      <td>0.285930</td>\n",
       "      <td>0.032477</td>\n",
       "      <td>-0.003394</td>\n",
       "      <td>1.605547</td>\n",
       "      <td>0.026883</td>\n",
       "      <td>0.377266</td>\n",
       "      <td>-0.046513</td>\n",
       "      <td>0.386378</td>\n",
       "      <td>0.386378</td>\n",
       "      <td>0.341492</td>\n",
       "      <td>0.978221</td>\n",
       "    </tr>\n",
       "    <tr>\n",
       "      <th>112</th>\n",
       "      <td>0.706299</td>\n",
       "      <td>-0.644922</td>\n",
       "      <td>-0.059422</td>\n",
       "      <td>0.042193</td>\n",
       "      <td>-0.070381</td>\n",
       "      <td>-0.681154</td>\n",
       "      <td>0.269487</td>\n",
       "      <td>0.401873</td>\n",
       "      <td>0.061737</td>\n",
       "      <td>0.197099</td>\n",
       "      <td>-0.066764</td>\n",
       "      <td>-1.314501</td>\n",
       "      <td>-1.312887</td>\n",
       "      <td>0.285930</td>\n",
       "      <td>0.032477</td>\n",
       "      <td>-0.003394</td>\n",
       "      <td>-0.007805</td>\n",
       "      <td>0.026883</td>\n",
       "      <td>0.377266</td>\n",
       "      <td>0.016631</td>\n",
       "      <td>0.386378</td>\n",
       "      <td>0.386378</td>\n",
       "      <td>-0.453867</td>\n",
       "      <td>-1.524027</td>\n",
       "    </tr>\n",
       "    <tr>\n",
       "      <th>629</th>\n",
       "      <td>0.706299</td>\n",
       "      <td>-0.130576</td>\n",
       "      <td>-0.059422</td>\n",
       "      <td>0.042193</td>\n",
       "      <td>0.904750</td>\n",
       "      <td>0.203818</td>\n",
       "      <td>0.269487</td>\n",
       "      <td>0.344053</td>\n",
       "      <td>-0.258781</td>\n",
       "      <td>0.018173</td>\n",
       "      <td>-0.066764</td>\n",
       "      <td>1.161329</td>\n",
       "      <td>0.368753</td>\n",
       "      <td>0.285930</td>\n",
       "      <td>0.032477</td>\n",
       "      <td>-0.003394</td>\n",
       "      <td>-0.007805</td>\n",
       "      <td>0.026883</td>\n",
       "      <td>0.250717</td>\n",
       "      <td>0.016631</td>\n",
       "      <td>0.386378</td>\n",
       "      <td>0.386378</td>\n",
       "      <td>0.341492</td>\n",
       "      <td>0.978221</td>\n",
       "    </tr>\n",
       "    <tr>\n",
       "      <th>649</th>\n",
       "      <td>0.706299</td>\n",
       "      <td>0.424941</td>\n",
       "      <td>-0.059422</td>\n",
       "      <td>0.042193</td>\n",
       "      <td>0.904750</td>\n",
       "      <td>0.203818</td>\n",
       "      <td>0.269487</td>\n",
       "      <td>0.401873</td>\n",
       "      <td>0.061737</td>\n",
       "      <td>0.197099</td>\n",
       "      <td>-0.066764</td>\n",
       "      <td>1.161329</td>\n",
       "      <td>0.368753</td>\n",
       "      <td>0.285930</td>\n",
       "      <td>0.032477</td>\n",
       "      <td>-0.003394</td>\n",
       "      <td>-0.007805</td>\n",
       "      <td>0.026883</td>\n",
       "      <td>0.377266</td>\n",
       "      <td>-0.046513</td>\n",
       "      <td>0.386378</td>\n",
       "      <td>0.386378</td>\n",
       "      <td>0.341492</td>\n",
       "      <td>0.978221</td>\n",
       "    </tr>\n",
       "  </tbody>\n",
       "</table>\n",
       "</div>"
      ],
      "text/plain": [
       "               pclass       age     sibsp     parch      fare  embarked  \\\n",
       "PassengerId                                                               \n",
       "134         -0.490661 -0.130576 -0.059422  0.042193 -0.381535  0.203818   \n",
       "151         -0.490661  0.012507 -0.059422  0.042193 -0.070381  0.203818   \n",
       "112          0.706299 -0.644922 -0.059422  0.042193 -0.070381 -0.681154   \n",
       "629          0.706299 -0.130576 -0.059422  0.042193  0.904750  0.203818   \n",
       "649          0.706299  0.424941 -0.059422  0.042193  0.904750  0.203818   \n",
       "\n",
       "             name_size  name_length  name_longest  name_length_mean  \\\n",
       "PassengerId                                                           \n",
       "134          -1.574458    -1.200742     -0.182859          0.016631   \n",
       "151           0.269487     0.344053      0.411457          0.197099   \n",
       "112           0.269487     0.401873      0.061737          0.197099   \n",
       "629           0.269487     0.344053     -0.258781          0.018173   \n",
       "649           0.269487     0.401873      0.061737          0.197099   \n",
       "\n",
       "             popular_name   has_mr   has_miss   has_mrs   has_master   \\\n",
       "PassengerId                                                             \n",
       "134             -0.066764 -1.314501   0.368753 -1.770573     0.032477   \n",
       "151              0.152763 -1.314501   0.368753  0.285930     0.032477   \n",
       "112             -0.066764 -1.314501  -1.312887  0.285930     0.032477   \n",
       "629             -0.066764  1.161329   0.368753  0.285930     0.032477   \n",
       "649             -0.066764  1.161329   0.368753  0.285930     0.032477   \n",
       "\n",
       "              has_dr   has_rev   has_rare_title  ticket_num_len  \\\n",
       "PassengerId                                                       \n",
       "134         -0.003394 -0.007805        0.026883        0.250717   \n",
       "151         -0.003394  1.605547        0.026883        0.377266   \n",
       "112         -0.003394 -0.007805        0.026883        0.377266   \n",
       "629         -0.003394 -0.007805        0.026883        0.250717   \n",
       "649         -0.003394 -0.007805        0.026883        0.377266   \n",
       "\n",
       "             ticket_has_text  has_cabin  cabin_letter     alone  sex_male  \n",
       "PassengerId                                                                \n",
       "134                 0.016631   0.386378      0.386378 -0.453867 -1.524027  \n",
       "151                -0.046513   0.386378      0.386378  0.341492  0.978221  \n",
       "112                 0.016631   0.386378      0.386378 -0.453867 -1.524027  \n",
       "629                 0.016631   0.386378      0.386378  0.341492  0.978221  \n",
       "649                -0.046513   0.386378      0.386378  0.341492  0.978221  "
      ]
     },
     "execution_count": 10,
     "metadata": {},
     "output_type": "execute_result"
    }
   ],
   "source": [
    "X_train_woe.head()"
   ]
  },
  {
   "cell_type": "markdown",
   "metadata": {},
   "source": [
    "Получили WOE таблицы. На них можем посчитать IV предикторов"
   ]
  },
  {
   "cell_type": "code",
   "execution_count": 11,
   "metadata": {},
   "outputs": [
    {
     "data": {
      "text/html": [
       "<div>\n",
       "<style scoped>\n",
       "    .dataframe tbody tr th:only-of-type {\n",
       "        vertical-align: middle;\n",
       "    }\n",
       "\n",
       "    .dataframe tbody tr th {\n",
       "        vertical-align: top;\n",
       "    }\n",
       "\n",
       "    .dataframe thead th {\n",
       "        text-align: right;\n",
       "    }\n",
       "</style>\n",
       "<table border=\"1\" class=\"dataframe\">\n",
       "  <thead>\n",
       "    <tr style=\"text-align: right;\">\n",
       "      <th>target</th>\n",
       "      <th>0</th>\n",
       "      <th>1</th>\n",
       "      <th>woe</th>\n",
       "    </tr>\n",
       "    <tr>\n",
       "      <th>group</th>\n",
       "      <th></th>\n",
       "      <th></th>\n",
       "      <th></th>\n",
       "    </tr>\n",
       "  </thead>\n",
       "  <tbody>\n",
       "    <tr>\n",
       "      <th>(-inf, 8.0]</th>\n",
       "      <td>175</td>\n",
       "      <td>44</td>\n",
       "      <td>0.904750</td>\n",
       "    </tr>\n",
       "    <tr>\n",
       "      <th>(8.0, 12.4]</th>\n",
       "      <td>48</td>\n",
       "      <td>20</td>\n",
       "      <td>0.399623</td>\n",
       "    </tr>\n",
       "    <tr>\n",
       "      <th>(12.4, 19.3]</th>\n",
       "      <td>57</td>\n",
       "      <td>38</td>\n",
       "      <td>-0.070381</td>\n",
       "    </tr>\n",
       "    <tr>\n",
       "      <th>(19.3, 56.5]</th>\n",
       "      <td>100</td>\n",
       "      <td>91</td>\n",
       "      <td>-0.381535</td>\n",
       "    </tr>\n",
       "    <tr>\n",
       "      <th>(56.5, inf]</th>\n",
       "      <td>32</td>\n",
       "      <td>63</td>\n",
       "      <td>-1.153245</td>\n",
       "    </tr>\n",
       "  </tbody>\n",
       "</table>\n",
       "</div>"
      ],
      "text/plain": [
       "target          0   1       woe\n",
       "group                          \n",
       "(-inf, 8.0]   175  44  0.904750\n",
       "(8.0, 12.4]    48  20  0.399623\n",
       "(12.4, 19.3]   57  38 -0.070381\n",
       "(19.3, 56.5]  100  91 -0.381535\n",
       "(56.5, inf]    32  63 -1.153245"
      ]
     },
     "execution_count": 11,
     "metadata": {},
     "output_type": "execute_result"
    }
   ],
   "source": [
    "woe_trans.woe_tables['fare']"
   ]
  },
  {
   "cell_type": "markdown",
   "metadata": {},
   "source": [
    "## Считаем Information Value"
   ]
  },
  {
   "cell_type": "code",
   "execution_count": 12,
   "metadata": {},
   "outputs": [],
   "source": [
    "# Считаем IVs\n",
    "vars_ivs = {}\n",
    "\n",
    "for key, woe_table in woe_trans.woe_tables.items():\n",
    "    size_0, size_1 = woe_table[[0, 1]].sum()\n",
    "    vars_ivs[key] = woe_table.apply(lambda x: (x[0] / size_0 - x[1] / size_1) * x['woe'], axis=1).sum()\n",
    "    \n",
    "vars_ivs = pd.Series(vars_ivs).sort_values()"
   ]
  },
  {
   "cell_type": "code",
   "execution_count": 13,
   "metadata": {},
   "outputs": [
    {
     "data": {
      "text/html": [
       "<div>\n",
       "<style scoped>\n",
       "    .dataframe tbody tr th:only-of-type {\n",
       "        vertical-align: middle;\n",
       "    }\n",
       "\n",
       "    .dataframe tbody tr th {\n",
       "        vertical-align: top;\n",
       "    }\n",
       "\n",
       "    .dataframe thead th {\n",
       "        text-align: right;\n",
       "    }\n",
       "</style>\n",
       "<table border=\"1\" class=\"dataframe\">\n",
       "  <thead>\n",
       "    <tr style=\"text-align: right;\">\n",
       "      <th></th>\n",
       "      <th>0</th>\n",
       "    </tr>\n",
       "  </thead>\n",
       "  <tbody>\n",
       "    <tr>\n",
       "      <th>ticket_has_text</th>\n",
       "      <td>0.000773</td>\n",
       "    </tr>\n",
       "    <tr>\n",
       "      <th>has_dr</th>\n",
       "      <td>0.002113</td>\n",
       "    </tr>\n",
       "    <tr>\n",
       "      <th>popular_name</th>\n",
       "      <td>0.010190</td>\n",
       "    </tr>\n",
       "    <tr>\n",
       "      <th>parch</th>\n",
       "      <td>0.013387</td>\n",
       "    </tr>\n",
       "    <tr>\n",
       "      <th>has_rev</th>\n",
       "      <td>0.015664</td>\n",
       "    </tr>\n",
       "    <tr>\n",
       "      <th>has_master</th>\n",
       "      <td>0.022157</td>\n",
       "    </tr>\n",
       "    <tr>\n",
       "      <th>name_length_mean</th>\n",
       "      <td>0.022920</td>\n",
       "    </tr>\n",
       "    <tr>\n",
       "      <th>sibsp</th>\n",
       "      <td>0.040966</td>\n",
       "    </tr>\n",
       "    <tr>\n",
       "      <th>has_rare_title</th>\n",
       "      <td>0.049862</td>\n",
       "    </tr>\n",
       "    <tr>\n",
       "      <th>name_longest</th>\n",
       "      <td>0.081308</td>\n",
       "    </tr>\n",
       "    <tr>\n",
       "      <th>age</th>\n",
       "      <td>0.115221</td>\n",
       "    </tr>\n",
       "    <tr>\n",
       "      <th>embarked</th>\n",
       "      <td>0.122596</td>\n",
       "    </tr>\n",
       "    <tr>\n",
       "      <th>alone</th>\n",
       "      <td>0.153021</td>\n",
       "    </tr>\n",
       "    <tr>\n",
       "      <th>name_length</th>\n",
       "      <td>0.287910</td>\n",
       "    </tr>\n",
       "    <tr>\n",
       "      <th>ticket_num_len</th>\n",
       "      <td>0.289836</td>\n",
       "    </tr>\n",
       "    <tr>\n",
       "      <th>name_size</th>\n",
       "      <td>0.329218</td>\n",
       "    </tr>\n",
       "    <tr>\n",
       "      <th>has_cabin</th>\n",
       "      <td>0.435560</td>\n",
       "    </tr>\n",
       "    <tr>\n",
       "      <th>has_miss</th>\n",
       "      <td>0.465755</td>\n",
       "    </tr>\n",
       "    <tr>\n",
       "      <th>fare</th>\n",
       "      <td>0.482095</td>\n",
       "    </tr>\n",
       "    <tr>\n",
       "      <th>cabin_letter</th>\n",
       "      <td>0.485941</td>\n",
       "    </tr>\n",
       "    <tr>\n",
       "      <th>has_mrs</th>\n",
       "      <td>0.486594</td>\n",
       "    </tr>\n",
       "    <tr>\n",
       "      <th>pclass</th>\n",
       "      <td>0.554747</td>\n",
       "    </tr>\n",
       "    <tr>\n",
       "      <th>sex_male</th>\n",
       "      <td>1.330268</td>\n",
       "    </tr>\n",
       "    <tr>\n",
       "      <th>has_mr</th>\n",
       "      <td>1.358101</td>\n",
       "    </tr>\n",
       "  </tbody>\n",
       "</table>\n",
       "</div>"
      ],
      "text/plain": [
       "                         0\n",
       "ticket_has_text   0.000773\n",
       "has_dr            0.002113\n",
       "popular_name      0.010190\n",
       "parch             0.013387\n",
       "has_rev           0.015664\n",
       "has_master        0.022157\n",
       "name_length_mean  0.022920\n",
       "sibsp             0.040966\n",
       "has_rare_title    0.049862\n",
       "name_longest      0.081308\n",
       "age               0.115221\n",
       "embarked          0.122596\n",
       "alone             0.153021\n",
       "name_length       0.287910\n",
       "ticket_num_len    0.289836\n",
       "name_size         0.329218\n",
       "has_cabin         0.435560\n",
       "has_miss          0.465755\n",
       "fare              0.482095\n",
       "cabin_letter      0.485941\n",
       "has_mrs           0.486594\n",
       "pclass            0.554747\n",
       "sex_male          1.330268\n",
       "has_mr            1.358101"
      ]
     },
     "execution_count": 13,
     "metadata": {},
     "output_type": "execute_result"
    }
   ],
   "source": [
    "pd.DataFrame(vars_ivs)"
   ]
  },
  {
   "cell_type": "markdown",
   "metadata": {},
   "source": [
    "## Catboost inside algo\n",
    "И ещё посмотрим, что скажет алгоритм кэбуста. Запустим его отбор предикторов"
   ]
  },
  {
   "cell_type": "code",
   "execution_count": 14,
   "metadata": {},
   "outputs": [],
   "source": [
    "import catboost as cb"
   ]
  },
  {
   "cell_type": "code",
   "execution_count": 26,
   "metadata": {},
   "outputs": [],
   "source": [
    "# заполним пустые в кат фичах для кэтбуста\n",
    "cat_feat = ['embarked', 'cabin_letter']\n",
    "\n",
    "X_train_cb = X_train_tr.copy()\n",
    "X_train_cb[cat_feat] = X_train_cb[cat_feat].fillna('missing')\n",
    "X_test_cb = X_test_tr.copy()\n",
    "X_test_cb[cat_feat] = X_test_cb[cat_feat].fillna('missing')"
   ]
  },
  {
   "cell_type": "code",
   "execution_count": 27,
   "metadata": {},
   "outputs": [],
   "source": [
    "params = {'iterations': 100, # Сделаем поменьше\n",
    "          'eval_metric': 'AUC',\n",
    "              'silent':True,\n",
    "              'random_state': 123,        \n",
    "              }\n",
    "\n",
    "cb_model = cb.CatBoostClassifier(**params)\n",
    "\n",
    "train_pool = cb.Pool(X_train_cb, y_train, \n",
    "                     cat_features=cat_feat)\n",
    "\n",
    "test_pool = cb.Pool(X_test_cb, y_test, \n",
    "                     cat_features=cat_feat)"
   ]
  },
  {
   "cell_type": "code",
   "execution_count": 28,
   "metadata": {},
   "outputs": [
    {
     "data": {
      "application/vnd.jupyter.widget-view+json": {
       "model_id": "6c2347f1985c48fea6fe9b6ec89b8c26",
       "version_major": 2,
       "version_minor": 0
      },
      "text/plain": [
       "MetricVisualizer(layout=Layout(align_self='stretch', height='500px'))"
      ]
     },
     "metadata": {},
     "output_type": "display_data"
    },
    {
     "data": {
      "application/vnd.plotly.v1+json": {
       "config": {
        "plotlyServerURL": "https://plot.ly"
       },
       "data": [
        {
         "line": {
          "color": "rgb(51,160,44)"
         },
         "mode": "lines+markers",
         "name": "",
         "text": [
          "",
          "has_dr ",
          "ticket_has_text",
          "ticket_num_len",
          "has_rare_title",
          "popular_name",
          "alone",
          "has_mrs ",
          "name_longest",
          "has_rev ",
          "has_miss ",
          "parch",
          "name_size",
          "name_length_mean",
          "embarked",
          "name_length",
          "cabin_letter",
          "has_master ",
          "sibsp",
          "age",
          "fare",
          "has_cabin",
          "pclass",
          "sex_male"
         ],
         "type": "scatter",
         "x": [
          0,
          1,
          2,
          3,
          4,
          5,
          6,
          7,
          8,
          9,
          10,
          11,
          12,
          13,
          14,
          15,
          16,
          17,
          18,
          19,
          20,
          21,
          22,
          23
         ],
         "y": [
          0.3800596212917145,
          0.3840072339144568,
          0.3875066890301093,
          0.3887256869637488,
          0.40459400314533517,
          0.3896701508512963,
          0.3725917766938024,
          0.37004129804445857,
          0.3690507496981066,
          0.3675076920480617,
          0.36406202822696687,
          0.3830258808595628,
          0.40281426528750974,
          0.3949478482796219,
          0.3843117376316529,
          0.37985912062164323,
          0.37139618752617837,
          0.3790523840767675,
          0.4062093489482761,
          0.4047114153526289,
          0.43683262909604975,
          0.4332268463611628,
          0.6618838745726064,
          0.6634330579358299
         ]
        },
        {
         "marker": {
          "size": 10,
          "symbol": "square"
         },
         "mode": "markers",
         "name": "",
         "text": [
          "",
          "ticket_num_len",
          "alone",
          "name_longest",
          "has_miss ",
          "name_size",
          "embarked",
          "name_length",
          "cabin_letter",
          "has_master ",
          "sibsp",
          "age",
          "age",
          "fare",
          "has_cabin",
          "has_cabin",
          "has_cabin",
          "pclass",
          "pclass",
          "pclass",
          "pclass",
          "sex_male",
          "sex_male",
          "sex_male"
         ],
         "type": "scatter",
         "x": [
          0,
          3,
          6,
          8,
          10,
          12,
          14,
          15,
          16,
          17,
          18,
          19,
          19,
          20,
          21,
          21,
          21,
          22,
          22,
          22,
          22,
          23,
          23,
          23
         ],
         "y": [
          0.3800596212917145,
          0.3887256869637488,
          0.3725917766938024,
          0.3690507496981066,
          0.36406202822696687,
          0.40281426528750974,
          0.3843117376316529,
          0.37985912062164323,
          0.37139618752617837,
          0.3790523840767675,
          0.4062093489482761,
          0.4047114153526289,
          0.4047114153526289,
          0.43683262909604975,
          0.4332268463611628,
          0.4332268463611628,
          0.4332268463611628,
          0.6618838745726064,
          0.6618838745726064,
          0.6618838745726064,
          0.6618838745726064,
          0.6634330579358299,
          0.6634330579358299,
          0.6634330579358299
         ]
        },
        {
         "mode": "text",
         "name": "",
         "text": [
          "",
          "15",
          "19",
          "18",
          "17",
          "10",
          "22",
          "13",
          "8",
          "16",
          "12",
          "3",
          "6",
          "9",
          "5",
          "7",
          "21",
          "14",
          "2",
          "1",
          "4",
          "20",
          "0",
          "23"
         ],
         "textfont": {
          "color": "rgb(51,160,44)",
          "family": "sans serif",
          "size": 18
         },
         "textposition": "bottom center",
         "type": "scatter",
         "visible": false,
         "x": [
          0,
          1,
          2,
          3,
          4,
          5,
          6,
          7,
          8,
          9,
          10,
          11,
          12,
          13,
          14,
          15,
          16,
          17,
          18,
          19,
          20,
          21,
          22,
          23
         ],
         "y": [
          0.3800596212917145,
          0.3840072339144568,
          0.3875066890301093,
          0.3887256869637488,
          0.40459400314533517,
          0.3896701508512963,
          0.3725917766938024,
          0.37004129804445857,
          0.3690507496981066,
          0.3675076920480617,
          0.36406202822696687,
          0.3830258808595628,
          0.40281426528750974,
          0.3949478482796219,
          0.3843117376316529,
          0.37985912062164323,
          0.37139618752617837,
          0.3790523840767675,
          0.4062093489482761,
          0.4047114153526289,
          0.43683262909604975,
          0.4332268463611628,
          0.6618838745726064,
          0.6634330579358299
         ]
        },
        {
         "mode": "text",
         "name": "",
         "text": [
          "",
          "has_dr ",
          "ticket_has_text",
          "ticket_num_len",
          "has_rare_title",
          "popular_name",
          "alone",
          "has_mrs ",
          "name_longest",
          "has_rev ",
          "has_miss ",
          "parch",
          "name_size",
          "name_length_mean",
          "embarked",
          "name_length",
          "cabin_letter",
          "has_master ",
          "sibsp",
          "age",
          "fare",
          "has_cabin",
          "pclass",
          "sex_male"
         ],
         "textfont": {
          "color": "rgb(51,160,44)",
          "family": "sans serif",
          "size": 18
         },
         "textposition": "bottom center",
         "type": "scatter",
         "visible": false,
         "x": [
          0,
          1,
          2,
          3,
          4,
          5,
          6,
          7,
          8,
          9,
          10,
          11,
          12,
          13,
          14,
          15,
          16,
          17,
          18,
          19,
          20,
          21,
          22,
          23
         ],
         "y": [
          0.3800596212917145,
          0.3840072339144568,
          0.3875066890301093,
          0.3887256869637488,
          0.40459400314533517,
          0.3896701508512963,
          0.3725917766938024,
          0.37004129804445857,
          0.3690507496981066,
          0.3675076920480617,
          0.36406202822696687,
          0.3830258808595628,
          0.40281426528750974,
          0.3949478482796219,
          0.3843117376316529,
          0.37985912062164323,
          0.37139618752617837,
          0.3790523840767675,
          0.4062093489482761,
          0.4047114153526289,
          0.43683262909604975,
          0.4332268463611628,
          0.6618838745726064,
          0.6634330579358299
         ]
        }
       ],
       "layout": {
        "showlegend": false,
        "template": {
         "data": {
          "bar": [
           {
            "error_x": {
             "color": "#2a3f5f"
            },
            "error_y": {
             "color": "#2a3f5f"
            },
            "marker": {
             "line": {
              "color": "#E5ECF6",
              "width": 0.5
             },
             "pattern": {
              "fillmode": "overlay",
              "size": 10,
              "solidity": 0.2
             }
            },
            "type": "bar"
           }
          ],
          "barpolar": [
           {
            "marker": {
             "line": {
              "color": "#E5ECF6",
              "width": 0.5
             },
             "pattern": {
              "fillmode": "overlay",
              "size": 10,
              "solidity": 0.2
             }
            },
            "type": "barpolar"
           }
          ],
          "carpet": [
           {
            "aaxis": {
             "endlinecolor": "#2a3f5f",
             "gridcolor": "white",
             "linecolor": "white",
             "minorgridcolor": "white",
             "startlinecolor": "#2a3f5f"
            },
            "baxis": {
             "endlinecolor": "#2a3f5f",
             "gridcolor": "white",
             "linecolor": "white",
             "minorgridcolor": "white",
             "startlinecolor": "#2a3f5f"
            },
            "type": "carpet"
           }
          ],
          "choropleth": [
           {
            "colorbar": {
             "outlinewidth": 0,
             "ticks": ""
            },
            "type": "choropleth"
           }
          ],
          "contour": [
           {
            "colorbar": {
             "outlinewidth": 0,
             "ticks": ""
            },
            "colorscale": [
             [
              0,
              "#0d0887"
             ],
             [
              0.1111111111111111,
              "#46039f"
             ],
             [
              0.2222222222222222,
              "#7201a8"
             ],
             [
              0.3333333333333333,
              "#9c179e"
             ],
             [
              0.4444444444444444,
              "#bd3786"
             ],
             [
              0.5555555555555556,
              "#d8576b"
             ],
             [
              0.6666666666666666,
              "#ed7953"
             ],
             [
              0.7777777777777778,
              "#fb9f3a"
             ],
             [
              0.8888888888888888,
              "#fdca26"
             ],
             [
              1,
              "#f0f921"
             ]
            ],
            "type": "contour"
           }
          ],
          "contourcarpet": [
           {
            "colorbar": {
             "outlinewidth": 0,
             "ticks": ""
            },
            "type": "contourcarpet"
           }
          ],
          "heatmap": [
           {
            "colorbar": {
             "outlinewidth": 0,
             "ticks": ""
            },
            "colorscale": [
             [
              0,
              "#0d0887"
             ],
             [
              0.1111111111111111,
              "#46039f"
             ],
             [
              0.2222222222222222,
              "#7201a8"
             ],
             [
              0.3333333333333333,
              "#9c179e"
             ],
             [
              0.4444444444444444,
              "#bd3786"
             ],
             [
              0.5555555555555556,
              "#d8576b"
             ],
             [
              0.6666666666666666,
              "#ed7953"
             ],
             [
              0.7777777777777778,
              "#fb9f3a"
             ],
             [
              0.8888888888888888,
              "#fdca26"
             ],
             [
              1,
              "#f0f921"
             ]
            ],
            "type": "heatmap"
           }
          ],
          "heatmapgl": [
           {
            "colorbar": {
             "outlinewidth": 0,
             "ticks": ""
            },
            "colorscale": [
             [
              0,
              "#0d0887"
             ],
             [
              0.1111111111111111,
              "#46039f"
             ],
             [
              0.2222222222222222,
              "#7201a8"
             ],
             [
              0.3333333333333333,
              "#9c179e"
             ],
             [
              0.4444444444444444,
              "#bd3786"
             ],
             [
              0.5555555555555556,
              "#d8576b"
             ],
             [
              0.6666666666666666,
              "#ed7953"
             ],
             [
              0.7777777777777778,
              "#fb9f3a"
             ],
             [
              0.8888888888888888,
              "#fdca26"
             ],
             [
              1,
              "#f0f921"
             ]
            ],
            "type": "heatmapgl"
           }
          ],
          "histogram": [
           {
            "marker": {
             "pattern": {
              "fillmode": "overlay",
              "size": 10,
              "solidity": 0.2
             }
            },
            "type": "histogram"
           }
          ],
          "histogram2d": [
           {
            "colorbar": {
             "outlinewidth": 0,
             "ticks": ""
            },
            "colorscale": [
             [
              0,
              "#0d0887"
             ],
             [
              0.1111111111111111,
              "#46039f"
             ],
             [
              0.2222222222222222,
              "#7201a8"
             ],
             [
              0.3333333333333333,
              "#9c179e"
             ],
             [
              0.4444444444444444,
              "#bd3786"
             ],
             [
              0.5555555555555556,
              "#d8576b"
             ],
             [
              0.6666666666666666,
              "#ed7953"
             ],
             [
              0.7777777777777778,
              "#fb9f3a"
             ],
             [
              0.8888888888888888,
              "#fdca26"
             ],
             [
              1,
              "#f0f921"
             ]
            ],
            "type": "histogram2d"
           }
          ],
          "histogram2dcontour": [
           {
            "colorbar": {
             "outlinewidth": 0,
             "ticks": ""
            },
            "colorscale": [
             [
              0,
              "#0d0887"
             ],
             [
              0.1111111111111111,
              "#46039f"
             ],
             [
              0.2222222222222222,
              "#7201a8"
             ],
             [
              0.3333333333333333,
              "#9c179e"
             ],
             [
              0.4444444444444444,
              "#bd3786"
             ],
             [
              0.5555555555555556,
              "#d8576b"
             ],
             [
              0.6666666666666666,
              "#ed7953"
             ],
             [
              0.7777777777777778,
              "#fb9f3a"
             ],
             [
              0.8888888888888888,
              "#fdca26"
             ],
             [
              1,
              "#f0f921"
             ]
            ],
            "type": "histogram2dcontour"
           }
          ],
          "mesh3d": [
           {
            "colorbar": {
             "outlinewidth": 0,
             "ticks": ""
            },
            "type": "mesh3d"
           }
          ],
          "parcoords": [
           {
            "line": {
             "colorbar": {
              "outlinewidth": 0,
              "ticks": ""
             }
            },
            "type": "parcoords"
           }
          ],
          "pie": [
           {
            "automargin": true,
            "type": "pie"
           }
          ],
          "scatter": [
           {
            "marker": {
             "colorbar": {
              "outlinewidth": 0,
              "ticks": ""
             }
            },
            "type": "scatter"
           }
          ],
          "scatter3d": [
           {
            "line": {
             "colorbar": {
              "outlinewidth": 0,
              "ticks": ""
             }
            },
            "marker": {
             "colorbar": {
              "outlinewidth": 0,
              "ticks": ""
             }
            },
            "type": "scatter3d"
           }
          ],
          "scattercarpet": [
           {
            "marker": {
             "colorbar": {
              "outlinewidth": 0,
              "ticks": ""
             }
            },
            "type": "scattercarpet"
           }
          ],
          "scattergeo": [
           {
            "marker": {
             "colorbar": {
              "outlinewidth": 0,
              "ticks": ""
             }
            },
            "type": "scattergeo"
           }
          ],
          "scattergl": [
           {
            "marker": {
             "colorbar": {
              "outlinewidth": 0,
              "ticks": ""
             }
            },
            "type": "scattergl"
           }
          ],
          "scattermapbox": [
           {
            "marker": {
             "colorbar": {
              "outlinewidth": 0,
              "ticks": ""
             }
            },
            "type": "scattermapbox"
           }
          ],
          "scatterpolar": [
           {
            "marker": {
             "colorbar": {
              "outlinewidth": 0,
              "ticks": ""
             }
            },
            "type": "scatterpolar"
           }
          ],
          "scatterpolargl": [
           {
            "marker": {
             "colorbar": {
              "outlinewidth": 0,
              "ticks": ""
             }
            },
            "type": "scatterpolargl"
           }
          ],
          "scatterternary": [
           {
            "marker": {
             "colorbar": {
              "outlinewidth": 0,
              "ticks": ""
             }
            },
            "type": "scatterternary"
           }
          ],
          "surface": [
           {
            "colorbar": {
             "outlinewidth": 0,
             "ticks": ""
            },
            "colorscale": [
             [
              0,
              "#0d0887"
             ],
             [
              0.1111111111111111,
              "#46039f"
             ],
             [
              0.2222222222222222,
              "#7201a8"
             ],
             [
              0.3333333333333333,
              "#9c179e"
             ],
             [
              0.4444444444444444,
              "#bd3786"
             ],
             [
              0.5555555555555556,
              "#d8576b"
             ],
             [
              0.6666666666666666,
              "#ed7953"
             ],
             [
              0.7777777777777778,
              "#fb9f3a"
             ],
             [
              0.8888888888888888,
              "#fdca26"
             ],
             [
              1,
              "#f0f921"
             ]
            ],
            "type": "surface"
           }
          ],
          "table": [
           {
            "cells": {
             "fill": {
              "color": "#EBF0F8"
             },
             "line": {
              "color": "white"
             }
            },
            "header": {
             "fill": {
              "color": "#C8D4E3"
             },
             "line": {
              "color": "white"
             }
            },
            "type": "table"
           }
          ]
         },
         "layout": {
          "annotationdefaults": {
           "arrowcolor": "#2a3f5f",
           "arrowhead": 0,
           "arrowwidth": 1
          },
          "autotypenumbers": "strict",
          "coloraxis": {
           "colorbar": {
            "outlinewidth": 0,
            "ticks": ""
           }
          },
          "colorscale": {
           "diverging": [
            [
             0,
             "#8e0152"
            ],
            [
             0.1,
             "#c51b7d"
            ],
            [
             0.2,
             "#de77ae"
            ],
            [
             0.3,
             "#f1b6da"
            ],
            [
             0.4,
             "#fde0ef"
            ],
            [
             0.5,
             "#f7f7f7"
            ],
            [
             0.6,
             "#e6f5d0"
            ],
            [
             0.7,
             "#b8e186"
            ],
            [
             0.8,
             "#7fbc41"
            ],
            [
             0.9,
             "#4d9221"
            ],
            [
             1,
             "#276419"
            ]
           ],
           "sequential": [
            [
             0,
             "#0d0887"
            ],
            [
             0.1111111111111111,
             "#46039f"
            ],
            [
             0.2222222222222222,
             "#7201a8"
            ],
            [
             0.3333333333333333,
             "#9c179e"
            ],
            [
             0.4444444444444444,
             "#bd3786"
            ],
            [
             0.5555555555555556,
             "#d8576b"
            ],
            [
             0.6666666666666666,
             "#ed7953"
            ],
            [
             0.7777777777777778,
             "#fb9f3a"
            ],
            [
             0.8888888888888888,
             "#fdca26"
            ],
            [
             1,
             "#f0f921"
            ]
           ],
           "sequentialminus": [
            [
             0,
             "#0d0887"
            ],
            [
             0.1111111111111111,
             "#46039f"
            ],
            [
             0.2222222222222222,
             "#7201a8"
            ],
            [
             0.3333333333333333,
             "#9c179e"
            ],
            [
             0.4444444444444444,
             "#bd3786"
            ],
            [
             0.5555555555555556,
             "#d8576b"
            ],
            [
             0.6666666666666666,
             "#ed7953"
            ],
            [
             0.7777777777777778,
             "#fb9f3a"
            ],
            [
             0.8888888888888888,
             "#fdca26"
            ],
            [
             1,
             "#f0f921"
            ]
           ]
          },
          "colorway": [
           "#636efa",
           "#EF553B",
           "#00cc96",
           "#ab63fa",
           "#FFA15A",
           "#19d3f3",
           "#FF6692",
           "#B6E880",
           "#FF97FF",
           "#FECB52"
          ],
          "font": {
           "color": "#2a3f5f"
          },
          "geo": {
           "bgcolor": "white",
           "lakecolor": "white",
           "landcolor": "#E5ECF6",
           "showlakes": true,
           "showland": true,
           "subunitcolor": "white"
          },
          "hoverlabel": {
           "align": "left"
          },
          "hovermode": "closest",
          "mapbox": {
           "style": "light"
          },
          "paper_bgcolor": "white",
          "plot_bgcolor": "#E5ECF6",
          "polar": {
           "angularaxis": {
            "gridcolor": "white",
            "linecolor": "white",
            "ticks": ""
           },
           "bgcolor": "#E5ECF6",
           "radialaxis": {
            "gridcolor": "white",
            "linecolor": "white",
            "ticks": ""
           }
          },
          "scene": {
           "xaxis": {
            "backgroundcolor": "#E5ECF6",
            "gridcolor": "white",
            "gridwidth": 2,
            "linecolor": "white",
            "showbackground": true,
            "ticks": "",
            "zerolinecolor": "white"
           },
           "yaxis": {
            "backgroundcolor": "#E5ECF6",
            "gridcolor": "white",
            "gridwidth": 2,
            "linecolor": "white",
            "showbackground": true,
            "ticks": "",
            "zerolinecolor": "white"
           },
           "zaxis": {
            "backgroundcolor": "#E5ECF6",
            "gridcolor": "white",
            "gridwidth": 2,
            "linecolor": "white",
            "showbackground": true,
            "ticks": "",
            "zerolinecolor": "white"
           }
          },
          "shapedefaults": {
           "line": {
            "color": "#2a3f5f"
           }
          },
          "ternary": {
           "aaxis": {
            "gridcolor": "white",
            "linecolor": "white",
            "ticks": ""
           },
           "baxis": {
            "gridcolor": "white",
            "linecolor": "white",
            "ticks": ""
           },
           "bgcolor": "#E5ECF6",
           "caxis": {
            "gridcolor": "white",
            "linecolor": "white",
            "ticks": ""
           }
          },
          "title": {
           "x": 0.05
          },
          "xaxis": {
           "automargin": true,
           "gridcolor": "white",
           "linecolor": "white",
           "ticks": "",
           "title": {
            "standoff": 15
           },
           "zerolinecolor": "white",
           "zerolinewidth": 2
          },
          "yaxis": {
           "automargin": true,
           "gridcolor": "white",
           "linecolor": "white",
           "ticks": "",
           "title": {
            "standoff": 15
           },
           "zerolinecolor": "white",
           "zerolinewidth": 2
          }
         }
        },
        "updatemenus": [
         {
          "active": 0,
          "buttons": [
           {
            "args": [
             {
              "visible": [
               true,
               true,
               false,
               false
              ]
             }
            ],
            "label": "Hide features",
            "method": "update"
           },
           {
            "args": [
             {
              "visible": [
               true,
               true,
               true,
               false
              ]
             }
            ],
            "label": "Show indices",
            "method": "update"
           },
           {
            "args": [
             {
              "visible": [
               true,
               true,
               false,
               true
              ]
             }
            ],
            "label": "Show names",
            "method": "update"
           }
          ],
          "pad": {
           "r": 10,
           "t": 10
          },
          "showactive": true,
          "x": -0.25,
          "xanchor": "left",
          "y": 1.03,
          "yanchor": "top"
         }
        ],
        "xaxis": {
         "gridcolor": "rgb(255,255,255)",
         "showgrid": true,
         "showline": false,
         "showticklabels": true,
         "tickcolor": "rgb(127,127,127)",
         "ticks": "outside",
         "title": {
          "text": "number of removed features"
         },
         "zeroline": false
        },
        "yaxis": {
         "gridcolor": "rgb(255,255,255)",
         "showgrid": true,
         "showline": false,
         "showticklabels": true,
         "tickcolor": "rgb(127,127,127)",
         "ticks": "outside",
         "title": {
          "text": "loss value"
         },
         "zeroline": false
        }
       }
      },
      "text/html": [
       "<div>                            <div id=\"31d9f27e-d2b6-4947-83d9-3b9db25a1061\" class=\"plotly-graph-div\" style=\"height:525px; width:100%;\"></div>            <script type=\"text/javascript\">                require([\"plotly\"], function(Plotly) {                    window.PLOTLYENV=window.PLOTLYENV || {};                                    if (document.getElementById(\"31d9f27e-d2b6-4947-83d9-3b9db25a1061\")) {                    Plotly.newPlot(                        \"31d9f27e-d2b6-4947-83d9-3b9db25a1061\",                        [{\"line\":{\"color\":\"rgb(51,160,44)\"},\"mode\":\"lines+markers\",\"name\":\"\",\"text\":[\"\",\"has_dr \",\"ticket_has_text\",\"ticket_num_len\",\"has_rare_title\",\"popular_name\",\"alone\",\"has_mrs \",\"name_longest\",\"has_rev \",\"has_miss \",\"parch\",\"name_size\",\"name_length_mean\",\"embarked\",\"name_length\",\"cabin_letter\",\"has_master \",\"sibsp\",\"age\",\"fare\",\"has_cabin\",\"pclass\",\"sex_male\"],\"type\":\"scatter\",\"x\":[0,1,2,3,4,5,6,7,8,9,10,11,12,13,14,15,16,17,18,19,20,21,22,23],\"y\":[0.3800596212917145,0.3840072339144568,0.3875066890301093,0.3887256869637488,0.40459400314533517,0.3896701508512963,0.3725917766938024,0.37004129804445857,0.3690507496981066,0.3675076920480617,0.36406202822696687,0.3830258808595628,0.40281426528750974,0.3949478482796219,0.3843117376316529,0.37985912062164323,0.37139618752617837,0.3790523840767675,0.4062093489482761,0.4047114153526289,0.43683262909604975,0.4332268463611628,0.6618838745726064,0.6634330579358299]},{\"marker\":{\"size\":10,\"symbol\":\"square\"},\"mode\":\"markers\",\"name\":\"\",\"text\":[\"\",\"ticket_num_len\",\"alone\",\"name_longest\",\"has_miss \",\"name_size\",\"embarked\",\"name_length\",\"cabin_letter\",\"has_master \",\"sibsp\",\"age\",\"age\",\"fare\",\"has_cabin\",\"has_cabin\",\"has_cabin\",\"pclass\",\"pclass\",\"pclass\",\"pclass\",\"sex_male\",\"sex_male\",\"sex_male\"],\"type\":\"scatter\",\"x\":[0,3,6,8,10,12,14,15,16,17,18,19,19,20,21,21,21,22,22,22,22,23,23,23],\"y\":[0.3800596212917145,0.3887256869637488,0.3725917766938024,0.3690507496981066,0.36406202822696687,0.40281426528750974,0.3843117376316529,0.37985912062164323,0.37139618752617837,0.3790523840767675,0.4062093489482761,0.4047114153526289,0.4047114153526289,0.43683262909604975,0.4332268463611628,0.4332268463611628,0.4332268463611628,0.6618838745726064,0.6618838745726064,0.6618838745726064,0.6618838745726064,0.6634330579358299,0.6634330579358299,0.6634330579358299]},{\"mode\":\"text\",\"name\":\"\",\"text\":[\"\",\"15\",\"19\",\"18\",\"17\",\"10\",\"22\",\"13\",\"8\",\"16\",\"12\",\"3\",\"6\",\"9\",\"5\",\"7\",\"21\",\"14\",\"2\",\"1\",\"4\",\"20\",\"0\",\"23\"],\"textfont\":{\"color\":\"rgb(51,160,44)\",\"family\":\"sans serif\",\"size\":18},\"textposition\":\"bottom center\",\"type\":\"scatter\",\"visible\":false,\"x\":[0,1,2,3,4,5,6,7,8,9,10,11,12,13,14,15,16,17,18,19,20,21,22,23],\"y\":[0.3800596212917145,0.3840072339144568,0.3875066890301093,0.3887256869637488,0.40459400314533517,0.3896701508512963,0.3725917766938024,0.37004129804445857,0.3690507496981066,0.3675076920480617,0.36406202822696687,0.3830258808595628,0.40281426528750974,0.3949478482796219,0.3843117376316529,0.37985912062164323,0.37139618752617837,0.3790523840767675,0.4062093489482761,0.4047114153526289,0.43683262909604975,0.4332268463611628,0.6618838745726064,0.6634330579358299]},{\"mode\":\"text\",\"name\":\"\",\"text\":[\"\",\"has_dr \",\"ticket_has_text\",\"ticket_num_len\",\"has_rare_title\",\"popular_name\",\"alone\",\"has_mrs \",\"name_longest\",\"has_rev \",\"has_miss \",\"parch\",\"name_size\",\"name_length_mean\",\"embarked\",\"name_length\",\"cabin_letter\",\"has_master \",\"sibsp\",\"age\",\"fare\",\"has_cabin\",\"pclass\",\"sex_male\"],\"textfont\":{\"color\":\"rgb(51,160,44)\",\"family\":\"sans serif\",\"size\":18},\"textposition\":\"bottom center\",\"type\":\"scatter\",\"visible\":false,\"x\":[0,1,2,3,4,5,6,7,8,9,10,11,12,13,14,15,16,17,18,19,20,21,22,23],\"y\":[0.3800596212917145,0.3840072339144568,0.3875066890301093,0.3887256869637488,0.40459400314533517,0.3896701508512963,0.3725917766938024,0.37004129804445857,0.3690507496981066,0.3675076920480617,0.36406202822696687,0.3830258808595628,0.40281426528750974,0.3949478482796219,0.3843117376316529,0.37985912062164323,0.37139618752617837,0.3790523840767675,0.4062093489482761,0.4047114153526289,0.43683262909604975,0.4332268463611628,0.6618838745726064,0.6634330579358299]}],                        {\"showlegend\":false,\"template\":{\"data\":{\"bar\":[{\"error_x\":{\"color\":\"#2a3f5f\"},\"error_y\":{\"color\":\"#2a3f5f\"},\"marker\":{\"line\":{\"color\":\"#E5ECF6\",\"width\":0.5},\"pattern\":{\"fillmode\":\"overlay\",\"size\":10,\"solidity\":0.2}},\"type\":\"bar\"}],\"barpolar\":[{\"marker\":{\"line\":{\"color\":\"#E5ECF6\",\"width\":0.5},\"pattern\":{\"fillmode\":\"overlay\",\"size\":10,\"solidity\":0.2}},\"type\":\"barpolar\"}],\"carpet\":[{\"aaxis\":{\"endlinecolor\":\"#2a3f5f\",\"gridcolor\":\"white\",\"linecolor\":\"white\",\"minorgridcolor\":\"white\",\"startlinecolor\":\"#2a3f5f\"},\"baxis\":{\"endlinecolor\":\"#2a3f5f\",\"gridcolor\":\"white\",\"linecolor\":\"white\",\"minorgridcolor\":\"white\",\"startlinecolor\":\"#2a3f5f\"},\"type\":\"carpet\"}],\"choropleth\":[{\"colorbar\":{\"outlinewidth\":0,\"ticks\":\"\"},\"type\":\"choropleth\"}],\"contour\":[{\"colorbar\":{\"outlinewidth\":0,\"ticks\":\"\"},\"colorscale\":[[0.0,\"#0d0887\"],[0.1111111111111111,\"#46039f\"],[0.2222222222222222,\"#7201a8\"],[0.3333333333333333,\"#9c179e\"],[0.4444444444444444,\"#bd3786\"],[0.5555555555555556,\"#d8576b\"],[0.6666666666666666,\"#ed7953\"],[0.7777777777777778,\"#fb9f3a\"],[0.8888888888888888,\"#fdca26\"],[1.0,\"#f0f921\"]],\"type\":\"contour\"}],\"contourcarpet\":[{\"colorbar\":{\"outlinewidth\":0,\"ticks\":\"\"},\"type\":\"contourcarpet\"}],\"heatmap\":[{\"colorbar\":{\"outlinewidth\":0,\"ticks\":\"\"},\"colorscale\":[[0.0,\"#0d0887\"],[0.1111111111111111,\"#46039f\"],[0.2222222222222222,\"#7201a8\"],[0.3333333333333333,\"#9c179e\"],[0.4444444444444444,\"#bd3786\"],[0.5555555555555556,\"#d8576b\"],[0.6666666666666666,\"#ed7953\"],[0.7777777777777778,\"#fb9f3a\"],[0.8888888888888888,\"#fdca26\"],[1.0,\"#f0f921\"]],\"type\":\"heatmap\"}],\"heatmapgl\":[{\"colorbar\":{\"outlinewidth\":0,\"ticks\":\"\"},\"colorscale\":[[0.0,\"#0d0887\"],[0.1111111111111111,\"#46039f\"],[0.2222222222222222,\"#7201a8\"],[0.3333333333333333,\"#9c179e\"],[0.4444444444444444,\"#bd3786\"],[0.5555555555555556,\"#d8576b\"],[0.6666666666666666,\"#ed7953\"],[0.7777777777777778,\"#fb9f3a\"],[0.8888888888888888,\"#fdca26\"],[1.0,\"#f0f921\"]],\"type\":\"heatmapgl\"}],\"histogram\":[{\"marker\":{\"pattern\":{\"fillmode\":\"overlay\",\"size\":10,\"solidity\":0.2}},\"type\":\"histogram\"}],\"histogram2d\":[{\"colorbar\":{\"outlinewidth\":0,\"ticks\":\"\"},\"colorscale\":[[0.0,\"#0d0887\"],[0.1111111111111111,\"#46039f\"],[0.2222222222222222,\"#7201a8\"],[0.3333333333333333,\"#9c179e\"],[0.4444444444444444,\"#bd3786\"],[0.5555555555555556,\"#d8576b\"],[0.6666666666666666,\"#ed7953\"],[0.7777777777777778,\"#fb9f3a\"],[0.8888888888888888,\"#fdca26\"],[1.0,\"#f0f921\"]],\"type\":\"histogram2d\"}],\"histogram2dcontour\":[{\"colorbar\":{\"outlinewidth\":0,\"ticks\":\"\"},\"colorscale\":[[0.0,\"#0d0887\"],[0.1111111111111111,\"#46039f\"],[0.2222222222222222,\"#7201a8\"],[0.3333333333333333,\"#9c179e\"],[0.4444444444444444,\"#bd3786\"],[0.5555555555555556,\"#d8576b\"],[0.6666666666666666,\"#ed7953\"],[0.7777777777777778,\"#fb9f3a\"],[0.8888888888888888,\"#fdca26\"],[1.0,\"#f0f921\"]],\"type\":\"histogram2dcontour\"}],\"mesh3d\":[{\"colorbar\":{\"outlinewidth\":0,\"ticks\":\"\"},\"type\":\"mesh3d\"}],\"parcoords\":[{\"line\":{\"colorbar\":{\"outlinewidth\":0,\"ticks\":\"\"}},\"type\":\"parcoords\"}],\"pie\":[{\"automargin\":true,\"type\":\"pie\"}],\"scatter\":[{\"marker\":{\"colorbar\":{\"outlinewidth\":0,\"ticks\":\"\"}},\"type\":\"scatter\"}],\"scatter3d\":[{\"line\":{\"colorbar\":{\"outlinewidth\":0,\"ticks\":\"\"}},\"marker\":{\"colorbar\":{\"outlinewidth\":0,\"ticks\":\"\"}},\"type\":\"scatter3d\"}],\"scattercarpet\":[{\"marker\":{\"colorbar\":{\"outlinewidth\":0,\"ticks\":\"\"}},\"type\":\"scattercarpet\"}],\"scattergeo\":[{\"marker\":{\"colorbar\":{\"outlinewidth\":0,\"ticks\":\"\"}},\"type\":\"scattergeo\"}],\"scattergl\":[{\"marker\":{\"colorbar\":{\"outlinewidth\":0,\"ticks\":\"\"}},\"type\":\"scattergl\"}],\"scattermapbox\":[{\"marker\":{\"colorbar\":{\"outlinewidth\":0,\"ticks\":\"\"}},\"type\":\"scattermapbox\"}],\"scatterpolar\":[{\"marker\":{\"colorbar\":{\"outlinewidth\":0,\"ticks\":\"\"}},\"type\":\"scatterpolar\"}],\"scatterpolargl\":[{\"marker\":{\"colorbar\":{\"outlinewidth\":0,\"ticks\":\"\"}},\"type\":\"scatterpolargl\"}],\"scatterternary\":[{\"marker\":{\"colorbar\":{\"outlinewidth\":0,\"ticks\":\"\"}},\"type\":\"scatterternary\"}],\"surface\":[{\"colorbar\":{\"outlinewidth\":0,\"ticks\":\"\"},\"colorscale\":[[0.0,\"#0d0887\"],[0.1111111111111111,\"#46039f\"],[0.2222222222222222,\"#7201a8\"],[0.3333333333333333,\"#9c179e\"],[0.4444444444444444,\"#bd3786\"],[0.5555555555555556,\"#d8576b\"],[0.6666666666666666,\"#ed7953\"],[0.7777777777777778,\"#fb9f3a\"],[0.8888888888888888,\"#fdca26\"],[1.0,\"#f0f921\"]],\"type\":\"surface\"}],\"table\":[{\"cells\":{\"fill\":{\"color\":\"#EBF0F8\"},\"line\":{\"color\":\"white\"}},\"header\":{\"fill\":{\"color\":\"#C8D4E3\"},\"line\":{\"color\":\"white\"}},\"type\":\"table\"}]},\"layout\":{\"annotationdefaults\":{\"arrowcolor\":\"#2a3f5f\",\"arrowhead\":0,\"arrowwidth\":1},\"autotypenumbers\":\"strict\",\"coloraxis\":{\"colorbar\":{\"outlinewidth\":0,\"ticks\":\"\"}},\"colorscale\":{\"diverging\":[[0,\"#8e0152\"],[0.1,\"#c51b7d\"],[0.2,\"#de77ae\"],[0.3,\"#f1b6da\"],[0.4,\"#fde0ef\"],[0.5,\"#f7f7f7\"],[0.6,\"#e6f5d0\"],[0.7,\"#b8e186\"],[0.8,\"#7fbc41\"],[0.9,\"#4d9221\"],[1,\"#276419\"]],\"sequential\":[[0.0,\"#0d0887\"],[0.1111111111111111,\"#46039f\"],[0.2222222222222222,\"#7201a8\"],[0.3333333333333333,\"#9c179e\"],[0.4444444444444444,\"#bd3786\"],[0.5555555555555556,\"#d8576b\"],[0.6666666666666666,\"#ed7953\"],[0.7777777777777778,\"#fb9f3a\"],[0.8888888888888888,\"#fdca26\"],[1.0,\"#f0f921\"]],\"sequentialminus\":[[0.0,\"#0d0887\"],[0.1111111111111111,\"#46039f\"],[0.2222222222222222,\"#7201a8\"],[0.3333333333333333,\"#9c179e\"],[0.4444444444444444,\"#bd3786\"],[0.5555555555555556,\"#d8576b\"],[0.6666666666666666,\"#ed7953\"],[0.7777777777777778,\"#fb9f3a\"],[0.8888888888888888,\"#fdca26\"],[1.0,\"#f0f921\"]]},\"colorway\":[\"#636efa\",\"#EF553B\",\"#00cc96\",\"#ab63fa\",\"#FFA15A\",\"#19d3f3\",\"#FF6692\",\"#B6E880\",\"#FF97FF\",\"#FECB52\"],\"font\":{\"color\":\"#2a3f5f\"},\"geo\":{\"bgcolor\":\"white\",\"lakecolor\":\"white\",\"landcolor\":\"#E5ECF6\",\"showlakes\":true,\"showland\":true,\"subunitcolor\":\"white\"},\"hoverlabel\":{\"align\":\"left\"},\"hovermode\":\"closest\",\"mapbox\":{\"style\":\"light\"},\"paper_bgcolor\":\"white\",\"plot_bgcolor\":\"#E5ECF6\",\"polar\":{\"angularaxis\":{\"gridcolor\":\"white\",\"linecolor\":\"white\",\"ticks\":\"\"},\"bgcolor\":\"#E5ECF6\",\"radialaxis\":{\"gridcolor\":\"white\",\"linecolor\":\"white\",\"ticks\":\"\"}},\"scene\":{\"xaxis\":{\"backgroundcolor\":\"#E5ECF6\",\"gridcolor\":\"white\",\"gridwidth\":2,\"linecolor\":\"white\",\"showbackground\":true,\"ticks\":\"\",\"zerolinecolor\":\"white\"},\"yaxis\":{\"backgroundcolor\":\"#E5ECF6\",\"gridcolor\":\"white\",\"gridwidth\":2,\"linecolor\":\"white\",\"showbackground\":true,\"ticks\":\"\",\"zerolinecolor\":\"white\"},\"zaxis\":{\"backgroundcolor\":\"#E5ECF6\",\"gridcolor\":\"white\",\"gridwidth\":2,\"linecolor\":\"white\",\"showbackground\":true,\"ticks\":\"\",\"zerolinecolor\":\"white\"}},\"shapedefaults\":{\"line\":{\"color\":\"#2a3f5f\"}},\"ternary\":{\"aaxis\":{\"gridcolor\":\"white\",\"linecolor\":\"white\",\"ticks\":\"\"},\"baxis\":{\"gridcolor\":\"white\",\"linecolor\":\"white\",\"ticks\":\"\"},\"bgcolor\":\"#E5ECF6\",\"caxis\":{\"gridcolor\":\"white\",\"linecolor\":\"white\",\"ticks\":\"\"}},\"title\":{\"x\":0.05},\"xaxis\":{\"automargin\":true,\"gridcolor\":\"white\",\"linecolor\":\"white\",\"ticks\":\"\",\"title\":{\"standoff\":15},\"zerolinecolor\":\"white\",\"zerolinewidth\":2},\"yaxis\":{\"automargin\":true,\"gridcolor\":\"white\",\"linecolor\":\"white\",\"ticks\":\"\",\"title\":{\"standoff\":15},\"zerolinecolor\":\"white\",\"zerolinewidth\":2}}},\"updatemenus\":[{\"active\":0,\"buttons\":[{\"args\":[{\"visible\":[true,true,false,false]}],\"label\":\"Hide features\",\"method\":\"update\"},{\"args\":[{\"visible\":[true,true,true,false]}],\"label\":\"Show indices\",\"method\":\"update\"},{\"args\":[{\"visible\":[true,true,false,true]}],\"label\":\"Show names\",\"method\":\"update\"}],\"pad\":{\"r\":10,\"t\":10},\"showactive\":true,\"x\":-0.25,\"xanchor\":\"left\",\"y\":1.03,\"yanchor\":\"top\"}],\"xaxis\":{\"gridcolor\":\"rgb(255,255,255)\",\"showgrid\":true,\"showline\":false,\"showticklabels\":true,\"tickcolor\":\"rgb(127,127,127)\",\"ticks\":\"outside\",\"title\":{\"text\":\"number of removed features\"},\"zeroline\":false},\"yaxis\":{\"gridcolor\":\"rgb(255,255,255)\",\"showgrid\":true,\"showline\":false,\"showticklabels\":true,\"tickcolor\":\"rgb(127,127,127)\",\"ticks\":\"outside\",\"title\":{\"text\":\"loss value\"},\"zeroline\":false}},                        {\"responsive\": true}                    ).then(function(){\n",
       "                            \n",
       "var gd = document.getElementById('31d9f27e-d2b6-4947-83d9-3b9db25a1061');\n",
       "var x = new MutationObserver(function (mutations, observer) {{\n",
       "        var display = window.getComputedStyle(gd).display;\n",
       "        if (!display || display === 'none') {{\n",
       "            console.log([gd, 'removed!']);\n",
       "            Plotly.purge(gd);\n",
       "            observer.disconnect();\n",
       "        }}\n",
       "}});\n",
       "\n",
       "// Listen for the removal of the full notebook cells\n",
       "var notebookContainer = gd.closest('#notebook-container');\n",
       "if (notebookContainer) {{\n",
       "    x.observe(notebookContainer, {childList: true});\n",
       "}}\n",
       "\n",
       "// Listen for the clearing of the current output cell\n",
       "var outputEl = gd.closest('.output');\n",
       "if (outputEl) {{\n",
       "    x.observe(outputEl, {childList: true});\n",
       "}}\n",
       "\n",
       "                        })                };                });            </script>        </div>"
      ]
     },
     "metadata": {},
     "output_type": "display_data"
    }
   ],
   "source": [
    "select_feat = X_train_cb.columns.tolist()\n",
    "\n",
    "# Отбираем предикторы\n",
    "summary = cb_model.select_features(train_pool,\n",
    "    eval_set=test_pool,\n",
    "    features_for_select=select_feat,\n",
    "    num_features_to_select=1,  \n",
    "    steps=len(select_feat)-1,\n",
    "    algorithm=cb.EFeaturesSelectionAlgorithm.RecursiveByShapValues,\n",
    "    shap_calc_type=cb.EShapCalcType.Regular,\n",
    "    train_final_model=True,\n",
    "    logging_level='Silent',\n",
    "    plot=True\n",
    ")"
   ]
  },
  {
   "cell_type": "code",
   "execution_count": 29,
   "metadata": {},
   "outputs": [
    {
     "data": {
      "text/html": [
       "<div>\n",
       "<style scoped>\n",
       "    .dataframe tbody tr th:only-of-type {\n",
       "        vertical-align: middle;\n",
       "    }\n",
       "\n",
       "    .dataframe tbody tr th {\n",
       "        vertical-align: top;\n",
       "    }\n",
       "\n",
       "    .dataframe thead th {\n",
       "        text-align: right;\n",
       "    }\n",
       "</style>\n",
       "<table border=\"1\" class=\"dataframe\">\n",
       "  <thead>\n",
       "    <tr style=\"text-align: right;\">\n",
       "      <th></th>\n",
       "      <th>features</th>\n",
       "      <th>losses</th>\n",
       "    </tr>\n",
       "  </thead>\n",
       "  <tbody>\n",
       "    <tr>\n",
       "      <th>0</th>\n",
       "      <td></td>\n",
       "      <td>0.380060</td>\n",
       "    </tr>\n",
       "    <tr>\n",
       "      <th>1</th>\n",
       "      <td>has_dr</td>\n",
       "      <td>0.384007</td>\n",
       "    </tr>\n",
       "    <tr>\n",
       "      <th>2</th>\n",
       "      <td>ticket_has_text</td>\n",
       "      <td>0.387507</td>\n",
       "    </tr>\n",
       "    <tr>\n",
       "      <th>3</th>\n",
       "      <td>ticket_num_len</td>\n",
       "      <td>0.388726</td>\n",
       "    </tr>\n",
       "    <tr>\n",
       "      <th>4</th>\n",
       "      <td>has_rare_title</td>\n",
       "      <td>0.404594</td>\n",
       "    </tr>\n",
       "    <tr>\n",
       "      <th>5</th>\n",
       "      <td>popular_name</td>\n",
       "      <td>0.389670</td>\n",
       "    </tr>\n",
       "    <tr>\n",
       "      <th>6</th>\n",
       "      <td>alone</td>\n",
       "      <td>0.372592</td>\n",
       "    </tr>\n",
       "    <tr>\n",
       "      <th>7</th>\n",
       "      <td>has_mrs</td>\n",
       "      <td>0.370041</td>\n",
       "    </tr>\n",
       "    <tr>\n",
       "      <th>8</th>\n",
       "      <td>name_longest</td>\n",
       "      <td>0.369051</td>\n",
       "    </tr>\n",
       "    <tr>\n",
       "      <th>9</th>\n",
       "      <td>has_rev</td>\n",
       "      <td>0.367508</td>\n",
       "    </tr>\n",
       "    <tr>\n",
       "      <th>10</th>\n",
       "      <td>has_miss</td>\n",
       "      <td>0.364062</td>\n",
       "    </tr>\n",
       "    <tr>\n",
       "      <th>11</th>\n",
       "      <td>parch</td>\n",
       "      <td>0.383026</td>\n",
       "    </tr>\n",
       "    <tr>\n",
       "      <th>12</th>\n",
       "      <td>name_size</td>\n",
       "      <td>0.402814</td>\n",
       "    </tr>\n",
       "    <tr>\n",
       "      <th>13</th>\n",
       "      <td>name_length_mean</td>\n",
       "      <td>0.394948</td>\n",
       "    </tr>\n",
       "    <tr>\n",
       "      <th>14</th>\n",
       "      <td>embarked</td>\n",
       "      <td>0.384312</td>\n",
       "    </tr>\n",
       "    <tr>\n",
       "      <th>15</th>\n",
       "      <td>name_length</td>\n",
       "      <td>0.379859</td>\n",
       "    </tr>\n",
       "    <tr>\n",
       "      <th>16</th>\n",
       "      <td>cabin_letter</td>\n",
       "      <td>0.371396</td>\n",
       "    </tr>\n",
       "    <tr>\n",
       "      <th>17</th>\n",
       "      <td>has_master</td>\n",
       "      <td>0.379052</td>\n",
       "    </tr>\n",
       "    <tr>\n",
       "      <th>18</th>\n",
       "      <td>sibsp</td>\n",
       "      <td>0.406209</td>\n",
       "    </tr>\n",
       "    <tr>\n",
       "      <th>19</th>\n",
       "      <td>age</td>\n",
       "      <td>0.404711</td>\n",
       "    </tr>\n",
       "    <tr>\n",
       "      <th>20</th>\n",
       "      <td>fare</td>\n",
       "      <td>0.436833</td>\n",
       "    </tr>\n",
       "    <tr>\n",
       "      <th>21</th>\n",
       "      <td>has_cabin</td>\n",
       "      <td>0.433227</td>\n",
       "    </tr>\n",
       "    <tr>\n",
       "      <th>22</th>\n",
       "      <td>pclass</td>\n",
       "      <td>0.661884</td>\n",
       "    </tr>\n",
       "    <tr>\n",
       "      <th>23</th>\n",
       "      <td>sex_male</td>\n",
       "      <td>0.663433</td>\n",
       "    </tr>\n",
       "  </tbody>\n",
       "</table>\n",
       "</div>"
      ],
      "text/plain": [
       "            features    losses\n",
       "0                     0.380060\n",
       "1            has_dr   0.384007\n",
       "2    ticket_has_text  0.387507\n",
       "3     ticket_num_len  0.388726\n",
       "4     has_rare_title  0.404594\n",
       "5       popular_name  0.389670\n",
       "6              alone  0.372592\n",
       "7           has_mrs   0.370041\n",
       "8       name_longest  0.369051\n",
       "9           has_rev   0.367508\n",
       "10         has_miss   0.364062\n",
       "11             parch  0.383026\n",
       "12         name_size  0.402814\n",
       "13  name_length_mean  0.394948\n",
       "14          embarked  0.384312\n",
       "15       name_length  0.379859\n",
       "16      cabin_letter  0.371396\n",
       "17       has_master   0.379052\n",
       "18             sibsp  0.406209\n",
       "19               age  0.404711\n",
       "20              fare  0.436833\n",
       "21         has_cabin  0.433227\n",
       "22            pclass  0.661884\n",
       "23          sex_male  0.663433"
      ]
     },
     "execution_count": 29,
     "metadata": {},
     "output_type": "execute_result"
    }
   ],
   "source": [
    "# summary['selected_features_names']\n",
    "f_data = {'features': [''] + summary['eliminated_features_names'],\n",
    "       'losses': summary['loss_graph']['loss_values']}\n",
    "f_data = pd.DataFrame(f_data)\n",
    "f_data"
   ]
  },
  {
   "cell_type": "code",
   "execution_count": 38,
   "metadata": {},
   "outputs": [],
   "source": [
    "# Сделаем пару наборов\n",
    "good_feat = f_data['features'][18:].tolist() + summary['selected_features_names']\n",
    "\n",
    "potent_good_feat = f_data['features'][11:].tolist() + summary['selected_features_names']\n",
    "\n",
    "all_feat = select_feat.copy()"
   ]
  },
  {
   "cell_type": "code",
   "execution_count": 40,
   "metadata": {},
   "outputs": [
    {
     "name": "stdout",
     "output_type": "stream",
     "text": [
      "['pclass', 'age', 'sibsp', 'parch', 'fare', 'embarked', 'name_size', 'name_length', 'name_longest', 'name_length_mean', 'popular_name', 'has_mr ', 'has_miss ', 'has_mrs ', 'has_master ', 'has_dr ', 'has_rev ', 'has_rare_title', 'ticket_num_len', 'ticket_has_text', 'has_cabin', 'cabin_letter', 'alone', 'sex_male']\n"
     ]
    }
   ],
   "source": [
    "print(all_feat)"
   ]
  },
  {
   "cell_type": "code",
   "execution_count": 42,
   "metadata": {},
   "outputs": [
    {
     "name": "stdout",
     "output_type": "stream",
     "text": [
      "['parch', 'name_size', 'name_length_mean', 'embarked', 'name_length', 'cabin_letter', 'has_master ', 'sibsp', 'age', 'fare', 'has_cabin', 'pclass', 'sex_male', 'has_mr ']\n"
     ]
    }
   ],
   "source": [
    "print(potent_good_feat)"
   ]
  },
  {
   "cell_type": "code",
   "execution_count": 41,
   "metadata": {
    "scrolled": true
   },
   "outputs": [
    {
     "name": "stdout",
     "output_type": "stream",
     "text": [
      "['sibsp', 'age', 'fare', 'has_cabin', 'pclass', 'sex_male', 'has_mr ']\n"
     ]
    }
   ],
   "source": [
    "print(good_feat)"
   ]
  },
  {
   "cell_type": "markdown",
   "metadata": {},
   "source": [
    "# Cross-validation"
   ]
  },
  {
   "cell_type": "markdown",
   "metadata": {},
   "source": [
    "Делаем 10 разных разбиений по 5 фолдов в каждом, итого получим 50 скоров.  \n",
    "Будем сравнивать не средний скор моделей, а то, насколько каждая из моделей лучше или хуже другой на соответствующем фолде.  \n",
    "Применять будем Т тест\n",
    "\n"
   ]
  },
  {
   "cell_type": "code",
   "execution_count": 46,
   "metadata": {},
   "outputs": [],
   "source": [
    "from sklearn.impute import SimpleImputer\n",
    "from sklearn.pipeline import Pipeline, make_pipeline\n",
    "from sklearn.compose import ColumnTransformer, make_column_transformer, make_column_selector\n",
    "from sklearn.ensemble import RandomForestClassifier\n",
    "from sklearn.preprocessing import OneHotEncoder"
   ]
  },
  {
   "cell_type": "code",
   "execution_count": 47,
   "metadata": {},
   "outputs": [],
   "source": [
    "from sklearn.model_selection import cross_val_score\n",
    "from sklearn.linear_model import LogisticRegression"
   ]
  },
  {
   "cell_type": "code",
   "execution_count": 48,
   "metadata": {},
   "outputs": [],
   "source": [
    "from sklearn.model_selection import cross_val_score, KFold\n",
    "from scipy.stats import ttest_rel\n",
    "from sklearn.metrics import roc_auc_score"
   ]
  },
  {
   "cell_type": "markdown",
   "metadata": {},
   "source": [
    "Сначала просто попробуем работу. Сделаем 2 разных модели случайных лесов и выберем лучшую"
   ]
  },
  {
   "cell_type": "markdown",
   "metadata": {},
   "source": [
    "Учим бэйслайн модель - случайный лес на 5 предикторах. Тут пустые значения наивным образом заполняем (средним для числовых, наиболее частым для категориальных)"
   ]
  },
  {
   "cell_type": "code",
   "execution_count": 49,
   "metadata": {},
   "outputs": [],
   "source": [
    "baseline_cols = ['pclass', 'sex_male', 'age', 'sibsp', 'fare']\n",
    "\n",
    "baseline_model = make_pipeline(Titanic_Feature_Generator(cols_to_keep=baseline_cols),\n",
    "                                SimpleImputer(strategy='most_frequent'),\n",
    "                              RandomForestClassifier(max_depth=4))"
   ]
  },
  {
   "cell_type": "markdown",
   "metadata": {},
   "source": [
    "Для сравнения возьмем такой же случайный лес, добавим все предикторы, а для категориальных сделаем onehotencoder"
   ]
  },
  {
   "cell_type": "code",
   "execution_count": 50,
   "metadata": {},
   "outputs": [],
   "source": [
    "# Подготавливаем препроцессинги для этой версии\n",
    "numeric_transformer = SimpleImputer()\n",
    "categorical_transformer = make_pipeline(SimpleImputer(strategy='most_frequent'),\n",
    "                                       OneHotEncoder(handle_unknown='ignore'))\n",
    "\n",
    "all_feat_tranf = make_column_transformer(\n",
    "                        (numeric_transformer,\n",
    "                             make_column_selector(dtype_include=np.number)),\n",
    "                        (categorical_transformer,\n",
    "                             make_column_selector(dtype_include=object)))\n",
    "\n",
    "all_feat_model = make_pipeline(Titanic_Feature_Generator(cols_to_keep=all_feat),\n",
    "                               all_feat_tranf,\n",
    "                              RandomForestClassifier(max_depth=4))"
   ]
  },
  {
   "cell_type": "code",
   "execution_count": 51,
   "metadata": {},
   "outputs": [],
   "source": [
    "# Учимся все время на оригинальном X_train, и разбиваем его на фолды всегда одинакого\n",
    "\n",
    "def train_score_folds(model):\n",
    "    scores = np.array([])\n",
    "    \n",
    "    for i in range(10):\n",
    "        fold = KFold(n_splits=5, shuffle=True, random_state=i)\n",
    "        \n",
    "        scores_split = cross_val_score(estimator=model, X=X_train, y=y_train,\n",
    "                                                        cv=fold, scoring='roc_auc')\n",
    "        \n",
    "        scores = np.append(scores, scores_split)\n",
    "    \n",
    "    return scores\n",
    "\n",
    "def compare_scores(scores_base, scores_new, index=''):\n",
    "    t_score, p_value = ttest_rel(scores_base, scores_new)\n",
    "    score = [[t_score, p_value, scores_base.mean(), scores_new.mean()]]\n",
    "    return pd.DataFrame(score, \n",
    "                        columns=['t_score', 'p_value', 'mean_base', 'mean_new'], \n",
    "                        index=[index])"
   ]
  },
  {
   "cell_type": "code",
   "execution_count": 52,
   "metadata": {},
   "outputs": [],
   "source": [
    "scores_base = train_score_folds(baseline_model)"
   ]
  },
  {
   "cell_type": "markdown",
   "metadata": {},
   "source": [
    "Пробуем. Итеративно идем по параметру max_depth для версии со всеми предикторами и сравниваем с бэслайном с 5 переменными"
   ]
  },
  {
   "cell_type": "code",
   "execution_count": 53,
   "metadata": {},
   "outputs": [
    {
     "data": {
      "application/vnd.jupyter.widget-view+json": {
       "model_id": "469213ee629d48f5907d008ffc8c351c",
       "version_major": 2,
       "version_minor": 0
      },
      "text/plain": [
       "  0%|          | 0/10 [00:00<?, ?it/s]"
      ]
     },
     "metadata": {},
     "output_type": "display_data"
    }
   ],
   "source": [
    "result = pd.DataFrame()\n",
    "\n",
    "for max_depth in tqdm(range(5,15)):\n",
    "    all_feat_model = make_pipeline(Titanic_Feature_Generator(cols_to_keep=all_feat),\n",
    "                               all_feat_tranf,\n",
    "                              RandomForestClassifier(max_depth=max_depth))\n",
    "    \n",
    "    scores_new = train_score_folds(all_feat_model)\n",
    "    \n",
    "    stats = compare_scores(scores_base, scores_new, index=max_depth)\n",
    "    result = result.append(stats)"
   ]
  },
  {
   "cell_type": "code",
   "execution_count": 54,
   "metadata": {},
   "outputs": [
    {
     "data": {
      "text/html": [
       "<div>\n",
       "<style scoped>\n",
       "    .dataframe tbody tr th:only-of-type {\n",
       "        vertical-align: middle;\n",
       "    }\n",
       "\n",
       "    .dataframe tbody tr th {\n",
       "        vertical-align: top;\n",
       "    }\n",
       "\n",
       "    .dataframe thead th {\n",
       "        text-align: right;\n",
       "    }\n",
       "</style>\n",
       "<table border=\"1\" class=\"dataframe\">\n",
       "  <thead>\n",
       "    <tr style=\"text-align: right;\">\n",
       "      <th></th>\n",
       "      <th>t_score</th>\n",
       "      <th>p_value</th>\n",
       "      <th>mean_base</th>\n",
       "      <th>mean_new</th>\n",
       "    </tr>\n",
       "  </thead>\n",
       "  <tbody>\n",
       "    <tr>\n",
       "      <th>5</th>\n",
       "      <td>-3.421618</td>\n",
       "      <td>1.264653e-03</td>\n",
       "      <td>0.857477</td>\n",
       "      <td>0.864146</td>\n",
       "    </tr>\n",
       "    <tr>\n",
       "      <th>6</th>\n",
       "      <td>-4.953604</td>\n",
       "      <td>9.068900e-06</td>\n",
       "      <td>0.857477</td>\n",
       "      <td>0.868160</td>\n",
       "    </tr>\n",
       "    <tr>\n",
       "      <th>7</th>\n",
       "      <td>-5.933337</td>\n",
       "      <td>2.964311e-07</td>\n",
       "      <td>0.857477</td>\n",
       "      <td>0.870799</td>\n",
       "    </tr>\n",
       "    <tr>\n",
       "      <th>8</th>\n",
       "      <td>-5.802134</td>\n",
       "      <td>4.715297e-07</td>\n",
       "      <td>0.857477</td>\n",
       "      <td>0.872004</td>\n",
       "    </tr>\n",
       "    <tr>\n",
       "      <th>9</th>\n",
       "      <td>-6.210015</td>\n",
       "      <td>1.109813e-07</td>\n",
       "      <td>0.857477</td>\n",
       "      <td>0.873411</td>\n",
       "    </tr>\n",
       "    <tr>\n",
       "      <th>10</th>\n",
       "      <td>-6.975085</td>\n",
       "      <td>7.250197e-09</td>\n",
       "      <td>0.857477</td>\n",
       "      <td>0.874115</td>\n",
       "    </tr>\n",
       "    <tr>\n",
       "      <th>11</th>\n",
       "      <td>-5.595054</td>\n",
       "      <td>9.781043e-07</td>\n",
       "      <td>0.857477</td>\n",
       "      <td>0.872044</td>\n",
       "    </tr>\n",
       "    <tr>\n",
       "      <th>12</th>\n",
       "      <td>-5.983146</td>\n",
       "      <td>2.484583e-07</td>\n",
       "      <td>0.857477</td>\n",
       "      <td>0.873229</td>\n",
       "    </tr>\n",
       "    <tr>\n",
       "      <th>13</th>\n",
       "      <td>-5.978558</td>\n",
       "      <td>2.525338e-07</td>\n",
       "      <td>0.857477</td>\n",
       "      <td>0.873743</td>\n",
       "    </tr>\n",
       "    <tr>\n",
       "      <th>14</th>\n",
       "      <td>-5.932701</td>\n",
       "      <td>2.970990e-07</td>\n",
       "      <td>0.857477</td>\n",
       "      <td>0.872296</td>\n",
       "    </tr>\n",
       "  </tbody>\n",
       "</table>\n",
       "</div>"
      ],
      "text/plain": [
       "     t_score       p_value  mean_base  mean_new\n",
       "5  -3.421618  1.264653e-03   0.857477  0.864146\n",
       "6  -4.953604  9.068900e-06   0.857477  0.868160\n",
       "7  -5.933337  2.964311e-07   0.857477  0.870799\n",
       "8  -5.802134  4.715297e-07   0.857477  0.872004\n",
       "9  -6.210015  1.109813e-07   0.857477  0.873411\n",
       "10 -6.975085  7.250197e-09   0.857477  0.874115\n",
       "11 -5.595054  9.781043e-07   0.857477  0.872044\n",
       "12 -5.983146  2.484583e-07   0.857477  0.873229\n",
       "13 -5.978558  2.525338e-07   0.857477  0.873743\n",
       "14 -5.932701  2.970990e-07   0.857477  0.872296"
      ]
     },
     "execution_count": 54,
     "metadata": {},
     "output_type": "execute_result"
    }
   ],
   "source": [
    "result"
   ]
  },
  {
   "cell_type": "code",
   "execution_count": 58,
   "metadata": {},
   "outputs": [],
   "source": [
    "def plot_model_comparison(result, xname='', title=''):\n",
    "    fig, ax = plt.subplots() # figsize=(16, 4)\n",
    "    ax2 = ax.twinx()\n",
    "\n",
    "    result['t_score'].plot(ax=ax, label='t_score')\n",
    "    result['mean_new'].plot(ax=ax2, label='mean roc_auc', c='g')\n",
    "    ax.set_xlabel(xname)\n",
    "    ax.legend()\n",
    "    ax2.legend()\n",
    "    plt.title(title);"
   ]
  },
  {
   "cell_type": "code",
   "execution_count": 59,
   "metadata": {},
   "outputs": [
    {
     "data": {
      "image/png": "[encoded data removed]",
      "text/plain": [
       "<Figure size 432x288 with 2 Axes>"
      ]
     },
     "metadata": {
      "needs_background": "light"
     },
     "output_type": "display_data"
    }
   ],
   "source": [
    "plot_model_comparison(result, xname='max_depth', title='RandomForest_AllFeat')"
   ]
  },
  {
   "cell_type": "markdown",
   "metadata": {},
   "source": [
    "Т статистика оказалась наилучшей c max_depth=10, и средний скор лучший в этом районе.  \n",
    "\n",
    "Зафиксируем тестовый скор этой модели и продолжим сравнивать модели этим методом"
   ]
  },
  {
   "cell_type": "code",
   "execution_count": 61,
   "metadata": {},
   "outputs": [],
   "source": [
    "def roc_auc_train_test(model):\n",
    "    model.fit(X_train, y_train)\n",
    "    preds_train = model.predict_proba(X_train)[:, 1]\n",
    "    preds_test = model.predict_proba(X_test)[:, 1]\n",
    "    \n",
    "    roc_train = roc_auc_score(y_train, preds_train)\n",
    "    roc_test = roc_auc_score(y_test, preds_test)\n",
    "    \n",
    "    return roc_train, roc_test"
   ]
  },
  {
   "cell_type": "code",
   "execution_count": 66,
   "metadata": {},
   "outputs": [
    {
     "name": "stdout",
     "output_type": "stream",
     "text": [
      "Предикторы: все\n",
      "train = 0.9905\n",
      "test = 0.8934\n",
      "Предикторы: потенциальные\n",
      "train = 0.9874\n",
      "test = 0.8939\n",
      "Предикторы: хорошие\n",
      "train = 0.9860\n",
      "test = 0.8953\n"
     ]
    }
   ],
   "source": [
    "feaute_sample_names = ['все', 'потенциальные', 'хорошие']\n",
    "feaute_samples = [all_feat, potent_good_feat, good_feat]\n",
    "\n",
    "for _feature_sample, fname in zip(feaute_samples, feaute_sample_names):\n",
    "    rand_forest_all_f = make_pipeline(Titanic_Feature_Generator(cols_to_keep=_feature_sample),\n",
    "                               all_feat_tranf,\n",
    "                              RandomForestClassifier(max_depth=10))\n",
    "\n",
    "    scores_rf_all_f = roc_auc_train_test(rand_forest_all_f)\n",
    "    print(f'Предикторы: {fname}')\n",
    "    print(f\"train = {scores_rf_all_f[0]:.4f}\\ntest = {scores_rf_all_f[1]:.4f}\")"
   ]
  },
  {
   "cell_type": "markdown",
   "metadata": {},
   "source": [
    "# WOE+LR model"
   ]
  },
  {
   "cell_type": "markdown",
   "metadata": {},
   "source": [
    "Теперь бэслайном будет лучшая из предыдущего эксперимента"
   ]
  },
  {
   "cell_type": "code",
   "execution_count": 68,
   "metadata": {},
   "outputs": [],
   "source": [
    "rand_forest_all_f = make_pipeline(Titanic_Feature_Generator(cols_to_drop=high_corr_cols),\n",
    "                               all_feat_tranf,\n",
    "                              RandomForestClassifier(max_depth=9))\n",
    "\n",
    "scores_base = train_score_folds(rand_forest_all_f)"
   ]
  },
  {
   "cell_type": "markdown",
   "metadata": {},
   "source": [
    "Берем все предикторы"
   ]
  },
  {
   "cell_type": "code",
   "execution_count": 70,
   "metadata": {},
   "outputs": [
    {
     "data": {
      "application/vnd.jupyter.widget-view+json": {
       "model_id": "0869a1d286fa49ab81488bcc8eac8778",
       "version_major": 2,
       "version_minor": 0
      },
      "text/plain": [
       "  0%|          | 0/8 [00:00<?, ?it/s]"
      ]
     },
     "metadata": {},
     "output_type": "display_data"
    }
   ],
   "source": [
    "result = pd.DataFrame()\n",
    "\n",
    "for max_groups in tqdm(range(2, 17, 2)):\n",
    "    # Инициализируем woe трансформер\n",
    "    woe_trans = WoE_Transformer(num_intervals=max_groups+int(max_groups/2)+1,\n",
    "                            max_groups=max_groups,\n",
    "                            unknown_vals='woe_mean',  \n",
    "                            filter_groups_algo=woe_filter,\n",
    "                           categorical_cols=['pclass', ])\n",
    "    \n",
    "    woe_lr_model = make_pipeline(Titanic_Feature_Generator(cols_to_keep=all_feat),\n",
    "                              woe_trans,\n",
    "                              LogisticRegression())\n",
    "    \n",
    "    scores_new = train_score_folds(woe_lr_model)\n",
    "    \n",
    "    stats = compare_scores(scores_base, scores_new, index=max_groups)\n",
    "    result = result.append(stats)"
   ]
  },
  {
   "cell_type": "code",
   "execution_count": 71,
   "metadata": {},
   "outputs": [
    {
     "data": {
      "text/html": [
       "<div>\n",
       "<style scoped>\n",
       "    .dataframe tbody tr th:only-of-type {\n",
       "        vertical-align: middle;\n",
       "    }\n",
       "\n",
       "    .dataframe tbody tr th {\n",
       "        vertical-align: top;\n",
       "    }\n",
       "\n",
       "    .dataframe thead th {\n",
       "        text-align: right;\n",
       "    }\n",
       "</style>\n",
       "<table border=\"1\" class=\"dataframe\">\n",
       "  <thead>\n",
       "    <tr style=\"text-align: right;\">\n",
       "      <th></th>\n",
       "      <th>t_score</th>\n",
       "      <th>p_value</th>\n",
       "      <th>mean_base</th>\n",
       "      <th>mean_new</th>\n",
       "    </tr>\n",
       "  </thead>\n",
       "  <tbody>\n",
       "    <tr>\n",
       "      <th>2</th>\n",
       "      <td>7.585335</td>\n",
       "      <td>8.268606e-10</td>\n",
       "      <td>0.875016</td>\n",
       "      <td>0.852754</td>\n",
       "    </tr>\n",
       "    <tr>\n",
       "      <th>4</th>\n",
       "      <td>10.595414</td>\n",
       "      <td>2.850025e-14</td>\n",
       "      <td>0.875016</td>\n",
       "      <td>0.848521</td>\n",
       "    </tr>\n",
       "    <tr>\n",
       "      <th>6</th>\n",
       "      <td>10.106246</td>\n",
       "      <td>1.415791e-13</td>\n",
       "      <td>0.875016</td>\n",
       "      <td>0.849588</td>\n",
       "    </tr>\n",
       "    <tr>\n",
       "      <th>8</th>\n",
       "      <td>11.168581</td>\n",
       "      <td>4.526049e-15</td>\n",
       "      <td>0.875016</td>\n",
       "      <td>0.847253</td>\n",
       "    </tr>\n",
       "    <tr>\n",
       "      <th>10</th>\n",
       "      <td>10.881901</td>\n",
       "      <td>1.130198e-14</td>\n",
       "      <td>0.875016</td>\n",
       "      <td>0.846771</td>\n",
       "    </tr>\n",
       "    <tr>\n",
       "      <th>12</th>\n",
       "      <td>11.219481</td>\n",
       "      <td>3.851509e-15</td>\n",
       "      <td>0.875016</td>\n",
       "      <td>0.845953</td>\n",
       "    </tr>\n",
       "    <tr>\n",
       "      <th>14</th>\n",
       "      <td>11.199541</td>\n",
       "      <td>4.102710e-15</td>\n",
       "      <td>0.875016</td>\n",
       "      <td>0.844691</td>\n",
       "    </tr>\n",
       "    <tr>\n",
       "      <th>16</th>\n",
       "      <td>11.493356</td>\n",
       "      <td>1.625530e-15</td>\n",
       "      <td>0.875016</td>\n",
       "      <td>0.844766</td>\n",
       "    </tr>\n",
       "  </tbody>\n",
       "</table>\n",
       "</div>"
      ],
      "text/plain": [
       "      t_score       p_value  mean_base  mean_new\n",
       "2    7.585335  8.268606e-10   0.875016  0.852754\n",
       "4   10.595414  2.850025e-14   0.875016  0.848521\n",
       "6   10.106246  1.415791e-13   0.875016  0.849588\n",
       "8   11.168581  4.526049e-15   0.875016  0.847253\n",
       "10  10.881901  1.130198e-14   0.875016  0.846771\n",
       "12  11.219481  3.851509e-15   0.875016  0.845953\n",
       "14  11.199541  4.102710e-15   0.875016  0.844691\n",
       "16  11.493356  1.625530e-15   0.875016  0.844766"
      ]
     },
     "execution_count": 71,
     "metadata": {},
     "output_type": "execute_result"
    }
   ],
   "source": [
    "result"
   ]
  },
  {
   "cell_type": "code",
   "execution_count": 72,
   "metadata": {},
   "outputs": [
    {
     "data": {
      "image/png": "[encoded data removed]",
      "text/plain": [
       "<Figure size 432x288 with 2 Axes>"
      ]
     },
     "metadata": {
      "needs_background": "light"
     },
     "output_type": "display_data"
    }
   ],
   "source": [
    "plot_model_comparison(result)"
   ]
  },
  {
   "cell_type": "markdown",
   "metadata": {},
   "source": [
    "Неудачно, скоры модели явно хуже. Попробуем взять меньший набор переменных.  \n",
    "Возьмем только хорошие"
   ]
  },
  {
   "cell_type": "code",
   "execution_count": 73,
   "metadata": {},
   "outputs": [
    {
     "data": {
      "application/vnd.jupyter.widget-view+json": {
       "model_id": "64e8358673e84328bae32696e8d70646",
       "version_major": 2,
       "version_minor": 0
      },
      "text/plain": [
       "  0%|          | 0/8 [00:00<?, ?it/s]"
      ]
     },
     "metadata": {},
     "output_type": "display_data"
    }
   ],
   "source": [
    "result = pd.DataFrame()\n",
    "\n",
    "for max_groups in tqdm(range(2, 17, 2)):\n",
    "    # Инициализируем woe трансформер\n",
    "    woe_trans = WoE_Transformer(num_intervals=max_groups+int(max_groups/2),\n",
    "                            max_groups=max_groups,\n",
    "                            unknown_vals='woe_mean',  \n",
    "                            filter_groups_algo=woe_filter,\n",
    "                           categorical_cols=['pclass', ])\n",
    "    # изменили базовый набор предикторов\n",
    "    woe_lr_model = make_pipeline(Titanic_Feature_Generator(cols_to_keep=good_feat),\n",
    "                              woe_trans,\n",
    "                              LogisticRegression())\n",
    "    \n",
    "    scores_new = train_score_folds(woe_lr_model)\n",
    "    \n",
    "    stats = compare_scores(scores_base, scores_new, index=max_groups)\n",
    "    result = result.append(stats)"
   ]
  },
  {
   "cell_type": "code",
   "execution_count": 74,
   "metadata": {},
   "outputs": [
    {
     "data": {
      "text/html": [
       "<div>\n",
       "<style scoped>\n",
       "    .dataframe tbody tr th:only-of-type {\n",
       "        vertical-align: middle;\n",
       "    }\n",
       "\n",
       "    .dataframe tbody tr th {\n",
       "        vertical-align: top;\n",
       "    }\n",
       "\n",
       "    .dataframe thead th {\n",
       "        text-align: right;\n",
       "    }\n",
       "</style>\n",
       "<table border=\"1\" class=\"dataframe\">\n",
       "  <thead>\n",
       "    <tr style=\"text-align: right;\">\n",
       "      <th></th>\n",
       "      <th>t_score</th>\n",
       "      <th>p_value</th>\n",
       "      <th>mean_base</th>\n",
       "      <th>mean_new</th>\n",
       "    </tr>\n",
       "  </thead>\n",
       "  <tbody>\n",
       "    <tr>\n",
       "      <th>2</th>\n",
       "      <td>10.915356</td>\n",
       "      <td>1.015175e-14</td>\n",
       "      <td>0.875016</td>\n",
       "      <td>0.842977</td>\n",
       "    </tr>\n",
       "    <tr>\n",
       "      <th>4</th>\n",
       "      <td>8.757145</td>\n",
       "      <td>1.360702e-11</td>\n",
       "      <td>0.875016</td>\n",
       "      <td>0.849401</td>\n",
       "    </tr>\n",
       "    <tr>\n",
       "      <th>6</th>\n",
       "      <td>8.692651</td>\n",
       "      <td>1.700768e-11</td>\n",
       "      <td>0.875016</td>\n",
       "      <td>0.850750</td>\n",
       "    </tr>\n",
       "    <tr>\n",
       "      <th>8</th>\n",
       "      <td>8.734317</td>\n",
       "      <td>1.472431e-11</td>\n",
       "      <td>0.875016</td>\n",
       "      <td>0.848810</td>\n",
       "    </tr>\n",
       "    <tr>\n",
       "      <th>10</th>\n",
       "      <td>8.958471</td>\n",
       "      <td>6.799333e-12</td>\n",
       "      <td>0.875016</td>\n",
       "      <td>0.848343</td>\n",
       "    </tr>\n",
       "    <tr>\n",
       "      <th>12</th>\n",
       "      <td>8.232834</td>\n",
       "      <td>8.435609e-11</td>\n",
       "      <td>0.875016</td>\n",
       "      <td>0.849167</td>\n",
       "    </tr>\n",
       "    <tr>\n",
       "      <th>14</th>\n",
       "      <td>10.645921</td>\n",
       "      <td>2.419381e-14</td>\n",
       "      <td>0.875016</td>\n",
       "      <td>0.845624</td>\n",
       "    </tr>\n",
       "    <tr>\n",
       "      <th>16</th>\n",
       "      <td>10.899038</td>\n",
       "      <td>1.069717e-14</td>\n",
       "      <td>0.875016</td>\n",
       "      <td>0.845514</td>\n",
       "    </tr>\n",
       "  </tbody>\n",
       "</table>\n",
       "</div>"
      ],
      "text/plain": [
       "      t_score       p_value  mean_base  mean_new\n",
       "2   10.915356  1.015175e-14   0.875016  0.842977\n",
       "4    8.757145  1.360702e-11   0.875016  0.849401\n",
       "6    8.692651  1.700768e-11   0.875016  0.850750\n",
       "8    8.734317  1.472431e-11   0.875016  0.848810\n",
       "10   8.958471  6.799333e-12   0.875016  0.848343\n",
       "12   8.232834  8.435609e-11   0.875016  0.849167\n",
       "14  10.645921  2.419381e-14   0.875016  0.845624\n",
       "16  10.899038  1.069717e-14   0.875016  0.845514"
      ]
     },
     "execution_count": 74,
     "metadata": {},
     "output_type": "execute_result"
    }
   ],
   "source": [
    "result"
   ]
  },
  {
   "cell_type": "code",
   "execution_count": 75,
   "metadata": {},
   "outputs": [
    {
     "data": {
      "image/png": "[encoded data removed]",
      "text/plain": [
       "<Figure size 432x288 with 2 Axes>"
      ]
     },
     "metadata": {
      "needs_background": "light"
     },
     "output_type": "display_data"
    }
   ],
   "source": [
    "plot_model_comparison(result)"
   ]
  },
  {
   "cell_type": "markdown",
   "metadata": {},
   "source": [
    "Результаты несколько лучше чем на всех предикторах, но все равно не лучше предыдущей модели.  \n",
    "Зафиксируем лучшую модель по бинам и её скоры на тесте на разных наборах предикторов"
   ]
  },
  {
   "cell_type": "code",
   "execution_count": 76,
   "metadata": {},
   "outputs": [
    {
     "name": "stdout",
     "output_type": "stream",
     "text": [
      "Предикторы: все\n",
      "train = 0.8764\n",
      "test = 0.8885\n",
      "Предикторы: потенциальные\n",
      "train = 0.8723\n",
      "test = 0.8858\n",
      "Предикторы: хорошие\n",
      "train = 0.8593\n",
      "test = 0.8659\n"
     ]
    }
   ],
   "source": [
    "feaute_sample_names = ['все', 'потенциальные', 'хорошие']\n",
    "feaute_samples = [all_feat, potent_good_feat, good_feat]\n",
    "\n",
    "for _feature_sample, fname in zip(feaute_samples, feaute_sample_names):\n",
    "    woe_trans = WoE_Transformer(num_intervals=6,\n",
    "                        max_groups=4,\n",
    "                        unknown_vals='woe_mean',  \n",
    "                        filter_groups_algo=woe_filter,\n",
    "                       categorical_cols=['pclass', ])\n",
    "\n",
    "    woe_lr_model = make_pipeline(Titanic_Feature_Generator(cols_to_keep=_feature_sample),\n",
    "                              woe_trans,\n",
    "                              LogisticRegression())\n",
    "    \n",
    "    scores_woe_lr_all = roc_auc_train_test(woe_lr_model)\n",
    "    print(f'Предикторы: {fname}')\n",
    "    print(f\"train = {scores_woe_lr_all[0]:.4f}\\ntest = {scores_woe_lr_all[1]:.4f}\")"
   ]
  },
  {
   "cell_type": "markdown",
   "metadata": {},
   "source": [
    "# Catboost model"
   ]
  },
  {
   "cell_type": "markdown",
   "metadata": {},
   "source": [
    "Базовые скоры не меняем, оставляем такими же.  \n",
    "Итерируем через параметр iterations.  \n",
    "Текстовые пропущенные значения, заполняем - 'missing'  \n",
    "Набор предикторов - potent_good_feat"
   ]
  },
  {
   "cell_type": "code",
   "execution_count": 79,
   "metadata": {},
   "outputs": [
    {
     "data": {
      "application/vnd.jupyter.widget-view+json": {
       "model_id": "d4c31641370d444799c168cdecaeea71",
       "version_major": 2,
       "version_minor": 0
      },
      "text/plain": [
       "  0%|          | 0/9 [00:00<?, ?it/s]"
      ]
     },
     "metadata": {},
     "output_type": "display_data"
    }
   ],
   "source": [
    "result = pd.DataFrame()\n",
    "\n",
    "for iters in tqdm(range(40, 201, 20)):\n",
    "    nan_to_miss_tr = ColumnTransformer([(\"cat_impute\", SimpleImputer(fill_value='missing', strategy='constant'), \n",
    "                                      cat_feat),],\n",
    "                                  remainder='passthrough')\n",
    "    \n",
    "    cb_classifier = cb.CatBoostClassifier(iterations=iters, \n",
    "                                          cat_features=[0,1],\n",
    "                                         silent=True)\n",
    "    \n",
    "    cb_model = make_pipeline(Titanic_Feature_Generator(cols_to_keep=potent_good_feat),\n",
    "                             nan_to_miss_tr,\n",
    "                              cb_classifier)\n",
    "    \n",
    "    scores_new = train_score_folds(cb_model)\n",
    "    \n",
    "    stats = compare_scores(scores_base, scores_new, index=iters)\n",
    "    result = result.append(stats)"
   ]
  },
  {
   "cell_type": "code",
   "execution_count": 80,
   "metadata": {},
   "outputs": [
    {
     "data": {
      "text/html": [
       "<div>\n",
       "<style scoped>\n",
       "    .dataframe tbody tr th:only-of-type {\n",
       "        vertical-align: middle;\n",
       "    }\n",
       "\n",
       "    .dataframe tbody tr th {\n",
       "        vertical-align: top;\n",
       "    }\n",
       "\n",
       "    .dataframe thead th {\n",
       "        text-align: right;\n",
       "    }\n",
       "</style>\n",
       "<table border=\"1\" class=\"dataframe\">\n",
       "  <thead>\n",
       "    <tr style=\"text-align: right;\">\n",
       "      <th></th>\n",
       "      <th>t_score</th>\n",
       "      <th>p_value</th>\n",
       "      <th>mean_base</th>\n",
       "      <th>mean_new</th>\n",
       "    </tr>\n",
       "  </thead>\n",
       "  <tbody>\n",
       "    <tr>\n",
       "      <th>40</th>\n",
       "      <td>9.614267</td>\n",
       "      <td>7.308126e-13</td>\n",
       "      <td>0.875016</td>\n",
       "      <td>0.855865</td>\n",
       "    </tr>\n",
       "    <tr>\n",
       "      <th>60</th>\n",
       "      <td>9.267891</td>\n",
       "      <td>2.359972e-12</td>\n",
       "      <td>0.875016</td>\n",
       "      <td>0.857263</td>\n",
       "    </tr>\n",
       "    <tr>\n",
       "      <th>80</th>\n",
       "      <td>9.025085</td>\n",
       "      <td>5.409572e-12</td>\n",
       "      <td>0.875016</td>\n",
       "      <td>0.857361</td>\n",
       "    </tr>\n",
       "    <tr>\n",
       "      <th>100</th>\n",
       "      <td>8.647854</td>\n",
       "      <td>1.986274e-11</td>\n",
       "      <td>0.875016</td>\n",
       "      <td>0.857180</td>\n",
       "    </tr>\n",
       "    <tr>\n",
       "      <th>120</th>\n",
       "      <td>9.255581</td>\n",
       "      <td>2.460968e-12</td>\n",
       "      <td>0.875016</td>\n",
       "      <td>0.857354</td>\n",
       "    </tr>\n",
       "    <tr>\n",
       "      <th>140</th>\n",
       "      <td>9.269479</td>\n",
       "      <td>2.347254e-12</td>\n",
       "      <td>0.875016</td>\n",
       "      <td>0.857547</td>\n",
       "    </tr>\n",
       "    <tr>\n",
       "      <th>160</th>\n",
       "      <td>8.704280</td>\n",
       "      <td>1.633670e-11</td>\n",
       "      <td>0.875016</td>\n",
       "      <td>0.857802</td>\n",
       "    </tr>\n",
       "    <tr>\n",
       "      <th>180</th>\n",
       "      <td>9.368640</td>\n",
       "      <td>1.675833e-12</td>\n",
       "      <td>0.875016</td>\n",
       "      <td>0.856799</td>\n",
       "    </tr>\n",
       "    <tr>\n",
       "      <th>200</th>\n",
       "      <td>8.260094</td>\n",
       "      <td>7.667757e-11</td>\n",
       "      <td>0.875016</td>\n",
       "      <td>0.856405</td>\n",
       "    </tr>\n",
       "  </tbody>\n",
       "</table>\n",
       "</div>"
      ],
      "text/plain": [
       "      t_score       p_value  mean_base  mean_new\n",
       "40   9.614267  7.308126e-13   0.875016  0.855865\n",
       "60   9.267891  2.359972e-12   0.875016  0.857263\n",
       "80   9.025085  5.409572e-12   0.875016  0.857361\n",
       "100  8.647854  1.986274e-11   0.875016  0.857180\n",
       "120  9.255581  2.460968e-12   0.875016  0.857354\n",
       "140  9.269479  2.347254e-12   0.875016  0.857547\n",
       "160  8.704280  1.633670e-11   0.875016  0.857802\n",
       "180  9.368640  1.675833e-12   0.875016  0.856799\n",
       "200  8.260094  7.667757e-11   0.875016  0.856405"
      ]
     },
     "execution_count": 80,
     "metadata": {},
     "output_type": "execute_result"
    }
   ],
   "source": [
    "result"
   ]
  },
  {
   "cell_type": "code",
   "execution_count": 81,
   "metadata": {},
   "outputs": [
    {
     "data": {
      "image/png": "[encoded data removed]",
      "text/plain": [
       "<Figure size 432x288 with 2 Axes>"
      ]
     },
     "metadata": {
      "needs_background": "light"
     },
     "output_type": "display_data"
    }
   ],
   "source": [
    "plot_model_comparison(result)"
   ]
  },
  {
   "cell_type": "markdown",
   "metadata": {},
   "source": [
    "Зафиксируем результат на тесте"
   ]
  },
  {
   "cell_type": "code",
   "execution_count": 91,
   "metadata": {},
   "outputs": [
    {
     "name": "stdout",
     "output_type": "stream",
     "text": [
      "Предикторы: все\n",
      "train = 0.9545\n",
      "test = 0.9026\n",
      "Предикторы: потенциальные\n",
      "train = 0.9413\n",
      "test = 0.9015\n",
      "Предикторы: хорошие\n",
      "train = 0.9485\n",
      "test = 0.9010\n"
     ]
    }
   ],
   "source": [
    "feaute_sample_names = ['все', 'потенциальные', 'хорошие']\n",
    "feaute_samples = [all_feat, potent_good_feat, good_feat]\n",
    "\n",
    "for _feature_sample, fname in zip(feaute_samples, feaute_sample_names):\n",
    "    categorical = list(set(cat_feat) & set(_feature_sample))\n",
    "    # fill categorical nans as missing\n",
    "    nan_to_miss_tr = ColumnTransformer([(\"cat_impute\", SimpleImputer(fill_value='missing', strategy='constant'), \n",
    "                                      categorical),],\n",
    "                                  remainder='passthrough')\n",
    "    \n",
    "    cb_classifier = cb.CatBoostClassifier(iterations=200, \n",
    "                                      cat_features=list(range(len(categorical))),\n",
    "                                     silent=True)\n",
    "\n",
    "    catboost_model = make_pipeline(Titanic_Feature_Generator(cols_to_keep=_feature_sample),\n",
    "                         nan_to_miss_tr,\n",
    "                          cb_classifier)\n",
    "\n",
    "    \n",
    "    scores_cb = roc_auc_train_test(catboost_model)\n",
    "    print(f'Предикторы: {fname}')\n",
    "    print(f\"train = {scores_cb[0]:.4f}\\ntest = {scores_cb[1]:.4f}\")"
   ]
  },
  {
   "cell_type": "markdown",
   "metadata": {},
   "source": [
    "# Ensemble"
   ]
  },
  {
   "cell_type": "markdown",
   "metadata": {},
   "source": [
    "Создадим простой soft voting классикитора на основе полученных 3х лучших моделей разных типов"
   ]
  },
  {
   "cell_type": "code",
   "execution_count": 93,
   "metadata": {},
   "outputs": [],
   "source": [
    "from sklearn.ensemble import VotingClassifier"
   ]
  },
  {
   "cell_type": "code",
   "execution_count": 104,
   "metadata": {},
   "outputs": [],
   "source": [
    "woe_filter = WoE_groups_filter()\n",
    "# Инициализируем woe трансформер\n",
    "woe_trans = WoE_Transformer(num_intervals=max_groups+int(max_groups/2),\n",
    "                        max_groups=max_groups,\n",
    "                        unknown_vals='woe_mean',  \n",
    "                        filter_groups_algo=woe_filter,\n",
    "                       categorical_cols=['pclass', ])"
   ]
  },
  {
   "cell_type": "code",
   "execution_count": 102,
   "metadata": {},
   "outputs": [],
   "source": [
    "voting_model = VotingClassifier([('rf', rand_forest_all_f), \n",
    "                                 ('woe_lr', woe_lr_model), \n",
    "                                 ('cat_boost', catboost_model)],\n",
    "                               voting='soft',\n",
    "                               weights=None,\n",
    "                               n_jobs=1,\n",
    "                               flatten_transform=False)"
   ]
  },
  {
   "cell_type": "code",
   "execution_count": 106,
   "metadata": {},
   "outputs": [
    {
     "name": "stdout",
     "output_type": "stream",
     "text": [
      "Предикторы: все\n",
      "train = 0.9563\n",
      "test = 0.9015\n",
      "Предикторы: потенциальные\n",
      "train = 0.9488\n",
      "test = 0.8981\n",
      "Предикторы: хорошие\n",
      "train = 0.9502\n",
      "test = 0.8947\n"
     ]
    }
   ],
   "source": [
    "feaute_sample_names = ['все', 'потенциальные', 'хорошие']\n",
    "feaute_samples = [all_feat, potent_good_feat, good_feat]\n",
    "\n",
    "for _feature_sample, fname in zip(feaute_samples, feaute_sample_names):\n",
    "    \n",
    "    rand_forest_all_f = make_pipeline(Titanic_Feature_Generator(cols_to_keep=_feature_sample),\n",
    "                                   all_feat_tranf,\n",
    "                                  RandomForestClassifier(max_depth=9))\n",
    "\n",
    "    woe_lr_model = make_pipeline(Titanic_Feature_Generator(cols_to_keep=_feature_sample),\n",
    "                              woe_trans,\n",
    "                              LogisticRegression())\n",
    "\n",
    "    categorical = list(set(cat_feat) & set(_feature_sample))\n",
    "    \n",
    "    nan_to_miss_tr = ColumnTransformer([(\"cat_impute\", SimpleImputer(fill_value='missing', strategy='constant'), \n",
    "                                          categorical),],\n",
    "                                      remainder='passthrough')\n",
    "\n",
    "    catboost_model = make_pipeline(Titanic_Feature_Generator(cols_to_keep=_feature_sample),\n",
    "                             nan_to_miss_tr,\n",
    "                              cb.CatBoostClassifier(iterations= 200, \n",
    "                                          cat_features=list(range(len(categorical))),\n",
    "                                         silent=True))\n",
    "    \n",
    "    voting_model = VotingClassifier([('rf', rand_forest_all_f), \n",
    "                             ('woe_lr', woe_lr_model), \n",
    "                             ('cat_boost', catboost_model)],\n",
    "                           voting='soft',\n",
    "                           weights=None,\n",
    "                           flatten_transform=False)\n",
    "    \n",
    "    scores_voting = roc_auc_train_test(voting_model)\n",
    "    print(f'Предикторы: {fname}')\n",
    "    print(f\"train = {scores_voting[0]:.4f}\\ntest = {scores_voting[1]:.4f}\")"
   ]
  },
  {
   "cell_type": "markdown",
   "metadata": {},
   "source": [
    "# Shap"
   ]
  },
  {
   "cell_type": "code",
   "execution_count": null,
   "metadata": {},
   "outputs": [],
   "source": [
    "import shap"
   ]
  },
  {
   "cell_type": "code",
   "execution_count": null,
   "metadata": {},
   "outputs": [],
   "source": [
    "arr = ['']"
   ]
  },
  {
   "cell_type": "code",
   "execution_count": null,
   "metadata": {},
   "outputs": [],
   "source": []
  },
  {
   "cell_type": "code",
   "execution_count": null,
   "metadata": {},
   "outputs": [],
   "source": []
  }
 ],
 "metadata": {
  "kernelspec": {
   "display_name": "Python 3",
   "language": "python",
   "name": "python3"
  },
  "language_info": {
   "codemirror_mode": {
    "name": "ipython",
    "version": 3
   },
   "file_extension": ".py",
   "mimetype": "text/x-python",
   "name": "python",
   "nbconvert_exporter": "python",
   "pygments_lexer": "ipython3",
   "version": "3.8.8"
  }
 },
 "nbformat": 4,
 "nbformat_minor": 4
}
